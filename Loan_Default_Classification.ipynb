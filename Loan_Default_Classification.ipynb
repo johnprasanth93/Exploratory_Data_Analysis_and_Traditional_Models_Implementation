{
 "cells": [
  {
   "cell_type": "code",
   "execution_count": 47,
   "metadata": {},
   "outputs": [],
   "source": [
    "import pandas as pd\n",
    "import numpy as np\n",
    "import seaborn as sns\n",
    "from matplotlib import pyplot as plt\n",
    "import missingno as msno\n",
    "from sklearn.model_selection import train_test_split\n",
    "from sklearn.preprocessing import StandardScaler\n",
    "%matplotlib inline\n",
    "import warnings\n",
    "warnings.filterwarnings('ignore')"
   ]
  },
  {
   "cell_type": "markdown",
   "metadata": {},
   "source": [
    "## Loading Data"
   ]
  },
  {
   "cell_type": "code",
   "execution_count": 48,
   "metadata": {},
   "outputs": [],
   "source": [
    "srcdf = pd.read_csv('/Case_2_loan_Default_classification/loan.csv')"
   ]
  },
  {
   "cell_type": "code",
   "execution_count": 49,
   "metadata": {},
   "outputs": [],
   "source": [
    "pd.set_option('display.max_columns', 41)"
   ]
  },
  {
   "cell_type": "code",
   "execution_count": 50,
   "metadata": {},
   "outputs": [
    {
     "data": {
      "text/html": [
       "<div>\n",
       "<style scoped>\n",
       "    .dataframe tbody tr th:only-of-type {\n",
       "        vertical-align: middle;\n",
       "    }\n",
       "\n",
       "    .dataframe tbody tr th {\n",
       "        vertical-align: top;\n",
       "    }\n",
       "\n",
       "    .dataframe thead th {\n",
       "        text-align: right;\n",
       "    }\n",
       "</style>\n",
       "<table border=\"1\" class=\"dataframe\">\n",
       "  <thead>\n",
       "    <tr style=\"text-align: right;\">\n",
       "      <th></th>\n",
       "      <th>UniqueID</th>\n",
       "      <th>disbursed_amount</th>\n",
       "      <th>asset_cost</th>\n",
       "      <th>ltv</th>\n",
       "      <th>branch_id</th>\n",
       "      <th>supplier_id</th>\n",
       "      <th>manufacturer_id</th>\n",
       "      <th>Current_pincode_ID</th>\n",
       "      <th>Date.of.Birth</th>\n",
       "      <th>Employment.Type</th>\n",
       "      <th>DisbursalDate</th>\n",
       "      <th>State_ID</th>\n",
       "      <th>Employee_code_ID</th>\n",
       "      <th>MobileNo_Avl_Flag</th>\n",
       "      <th>Aadhar_flag</th>\n",
       "      <th>PAN_flag</th>\n",
       "      <th>VoterID_flag</th>\n",
       "      <th>Driving_flag</th>\n",
       "      <th>Passport_flag</th>\n",
       "      <th>PERFORM_CNS.SCORE</th>\n",
       "      <th>PERFORM_CNS.SCORE.DESCRIPTION</th>\n",
       "      <th>PRI.NO.OF.ACCTS</th>\n",
       "      <th>PRI.ACTIVE.ACCTS</th>\n",
       "      <th>PRI.OVERDUE.ACCTS</th>\n",
       "      <th>PRI.CURRENT.BALANCE</th>\n",
       "      <th>PRI.SANCTIONED.AMOUNT</th>\n",
       "      <th>PRI.DISBURSED.AMOUNT</th>\n",
       "      <th>SEC.NO.OF.ACCTS</th>\n",
       "      <th>SEC.ACTIVE.ACCTS</th>\n",
       "      <th>SEC.OVERDUE.ACCTS</th>\n",
       "      <th>SEC.CURRENT.BALANCE</th>\n",
       "      <th>SEC.SANCTIONED.AMOUNT</th>\n",
       "      <th>SEC.DISBURSED.AMOUNT</th>\n",
       "      <th>PRIMARY.INSTAL.AMT</th>\n",
       "      <th>SEC.INSTAL.AMT</th>\n",
       "      <th>NEW.ACCTS.IN.LAST.SIX.MONTHS</th>\n",
       "      <th>DELINQUENT.ACCTS.IN.LAST.SIX.MONTHS</th>\n",
       "      <th>AVERAGE.ACCT.AGE</th>\n",
       "      <th>CREDIT.HISTORY.LENGTH</th>\n",
       "      <th>NO.OF_INQUIRIES</th>\n",
       "      <th>loan_default</th>\n",
       "    </tr>\n",
       "  </thead>\n",
       "  <tbody>\n",
       "    <tr>\n",
       "      <td>0</td>\n",
       "      <td>420825</td>\n",
       "      <td>50578</td>\n",
       "      <td>58400</td>\n",
       "      <td>89.55</td>\n",
       "      <td>67</td>\n",
       "      <td>22807</td>\n",
       "      <td>45</td>\n",
       "      <td>1441</td>\n",
       "      <td>01-01-84</td>\n",
       "      <td>Salaried</td>\n",
       "      <td>03-08-18</td>\n",
       "      <td>6</td>\n",
       "      <td>1998</td>\n",
       "      <td>1</td>\n",
       "      <td>1</td>\n",
       "      <td>0</td>\n",
       "      <td>0</td>\n",
       "      <td>0</td>\n",
       "      <td>0</td>\n",
       "      <td>0</td>\n",
       "      <td>No Bureau History Available</td>\n",
       "      <td>0</td>\n",
       "      <td>0</td>\n",
       "      <td>0</td>\n",
       "      <td>0</td>\n",
       "      <td>0</td>\n",
       "      <td>0</td>\n",
       "      <td>0</td>\n",
       "      <td>0</td>\n",
       "      <td>0</td>\n",
       "      <td>0</td>\n",
       "      <td>0</td>\n",
       "      <td>0</td>\n",
       "      <td>0</td>\n",
       "      <td>0</td>\n",
       "      <td>0</td>\n",
       "      <td>0</td>\n",
       "      <td>0yrs 0mon</td>\n",
       "      <td>0yrs 0mon</td>\n",
       "      <td>0</td>\n",
       "      <td>0</td>\n",
       "    </tr>\n",
       "    <tr>\n",
       "      <td>1</td>\n",
       "      <td>537409</td>\n",
       "      <td>47145</td>\n",
       "      <td>65550</td>\n",
       "      <td>73.23</td>\n",
       "      <td>67</td>\n",
       "      <td>22807</td>\n",
       "      <td>45</td>\n",
       "      <td>1502</td>\n",
       "      <td>31-07-85</td>\n",
       "      <td>Self employed</td>\n",
       "      <td>26-09-18</td>\n",
       "      <td>6</td>\n",
       "      <td>1998</td>\n",
       "      <td>1</td>\n",
       "      <td>1</td>\n",
       "      <td>0</td>\n",
       "      <td>0</td>\n",
       "      <td>0</td>\n",
       "      <td>0</td>\n",
       "      <td>598</td>\n",
       "      <td>I-Medium Risk</td>\n",
       "      <td>1</td>\n",
       "      <td>1</td>\n",
       "      <td>1</td>\n",
       "      <td>27600</td>\n",
       "      <td>50200</td>\n",
       "      <td>50200</td>\n",
       "      <td>0</td>\n",
       "      <td>0</td>\n",
       "      <td>0</td>\n",
       "      <td>0</td>\n",
       "      <td>0</td>\n",
       "      <td>0</td>\n",
       "      <td>1991</td>\n",
       "      <td>0</td>\n",
       "      <td>0</td>\n",
       "      <td>1</td>\n",
       "      <td>1yrs 11mon</td>\n",
       "      <td>1yrs 11mon</td>\n",
       "      <td>0</td>\n",
       "      <td>1</td>\n",
       "    </tr>\n",
       "    <tr>\n",
       "      <td>2</td>\n",
       "      <td>417566</td>\n",
       "      <td>53278</td>\n",
       "      <td>61360</td>\n",
       "      <td>89.63</td>\n",
       "      <td>67</td>\n",
       "      <td>22807</td>\n",
       "      <td>45</td>\n",
       "      <td>1497</td>\n",
       "      <td>24-08-85</td>\n",
       "      <td>Self employed</td>\n",
       "      <td>01-08-18</td>\n",
       "      <td>6</td>\n",
       "      <td>1998</td>\n",
       "      <td>1</td>\n",
       "      <td>1</td>\n",
       "      <td>0</td>\n",
       "      <td>0</td>\n",
       "      <td>0</td>\n",
       "      <td>0</td>\n",
       "      <td>0</td>\n",
       "      <td>No Bureau History Available</td>\n",
       "      <td>0</td>\n",
       "      <td>0</td>\n",
       "      <td>0</td>\n",
       "      <td>0</td>\n",
       "      <td>0</td>\n",
       "      <td>0</td>\n",
       "      <td>0</td>\n",
       "      <td>0</td>\n",
       "      <td>0</td>\n",
       "      <td>0</td>\n",
       "      <td>0</td>\n",
       "      <td>0</td>\n",
       "      <td>0</td>\n",
       "      <td>0</td>\n",
       "      <td>0</td>\n",
       "      <td>0</td>\n",
       "      <td>0yrs 0mon</td>\n",
       "      <td>0yrs 0mon</td>\n",
       "      <td>0</td>\n",
       "      <td>0</td>\n",
       "    </tr>\n",
       "    <tr>\n",
       "      <td>3</td>\n",
       "      <td>624493</td>\n",
       "      <td>57513</td>\n",
       "      <td>66113</td>\n",
       "      <td>88.48</td>\n",
       "      <td>67</td>\n",
       "      <td>22807</td>\n",
       "      <td>45</td>\n",
       "      <td>1501</td>\n",
       "      <td>30-12-93</td>\n",
       "      <td>Self employed</td>\n",
       "      <td>26-10-18</td>\n",
       "      <td>6</td>\n",
       "      <td>1998</td>\n",
       "      <td>1</td>\n",
       "      <td>1</td>\n",
       "      <td>0</td>\n",
       "      <td>0</td>\n",
       "      <td>0</td>\n",
       "      <td>0</td>\n",
       "      <td>305</td>\n",
       "      <td>L-Very High Risk</td>\n",
       "      <td>3</td>\n",
       "      <td>0</td>\n",
       "      <td>0</td>\n",
       "      <td>0</td>\n",
       "      <td>0</td>\n",
       "      <td>0</td>\n",
       "      <td>0</td>\n",
       "      <td>0</td>\n",
       "      <td>0</td>\n",
       "      <td>0</td>\n",
       "      <td>0</td>\n",
       "      <td>0</td>\n",
       "      <td>31</td>\n",
       "      <td>0</td>\n",
       "      <td>0</td>\n",
       "      <td>0</td>\n",
       "      <td>0yrs 8mon</td>\n",
       "      <td>1yrs 3mon</td>\n",
       "      <td>1</td>\n",
       "      <td>1</td>\n",
       "    </tr>\n",
       "    <tr>\n",
       "      <td>4</td>\n",
       "      <td>539055</td>\n",
       "      <td>52378</td>\n",
       "      <td>60300</td>\n",
       "      <td>88.39</td>\n",
       "      <td>67</td>\n",
       "      <td>22807</td>\n",
       "      <td>45</td>\n",
       "      <td>1495</td>\n",
       "      <td>09-12-77</td>\n",
       "      <td>Self employed</td>\n",
       "      <td>26-09-18</td>\n",
       "      <td>6</td>\n",
       "      <td>1998</td>\n",
       "      <td>1</td>\n",
       "      <td>1</td>\n",
       "      <td>0</td>\n",
       "      <td>0</td>\n",
       "      <td>0</td>\n",
       "      <td>0</td>\n",
       "      <td>0</td>\n",
       "      <td>No Bureau History Available</td>\n",
       "      <td>0</td>\n",
       "      <td>0</td>\n",
       "      <td>0</td>\n",
       "      <td>0</td>\n",
       "      <td>0</td>\n",
       "      <td>0</td>\n",
       "      <td>0</td>\n",
       "      <td>0</td>\n",
       "      <td>0</td>\n",
       "      <td>0</td>\n",
       "      <td>0</td>\n",
       "      <td>0</td>\n",
       "      <td>0</td>\n",
       "      <td>0</td>\n",
       "      <td>0</td>\n",
       "      <td>0</td>\n",
       "      <td>0yrs 0mon</td>\n",
       "      <td>0yrs 0mon</td>\n",
       "      <td>1</td>\n",
       "      <td>1</td>\n",
       "    </tr>\n",
       "  </tbody>\n",
       "</table>\n",
       "</div>"
      ],
      "text/plain": [
       "   UniqueID  disbursed_amount  asset_cost    ltv  branch_id  supplier_id  \\\n",
       "0    420825             50578       58400  89.55         67        22807   \n",
       "1    537409             47145       65550  73.23         67        22807   \n",
       "2    417566             53278       61360  89.63         67        22807   \n",
       "3    624493             57513       66113  88.48         67        22807   \n",
       "4    539055             52378       60300  88.39         67        22807   \n",
       "\n",
       "   manufacturer_id  Current_pincode_ID Date.of.Birth Employment.Type  \\\n",
       "0               45                1441      01-01-84        Salaried   \n",
       "1               45                1502      31-07-85   Self employed   \n",
       "2               45                1497      24-08-85   Self employed   \n",
       "3               45                1501      30-12-93   Self employed   \n",
       "4               45                1495      09-12-77   Self employed   \n",
       "\n",
       "  DisbursalDate  State_ID  Employee_code_ID  MobileNo_Avl_Flag  Aadhar_flag  \\\n",
       "0      03-08-18         6              1998                  1            1   \n",
       "1      26-09-18         6              1998                  1            1   \n",
       "2      01-08-18         6              1998                  1            1   \n",
       "3      26-10-18         6              1998                  1            1   \n",
       "4      26-09-18         6              1998                  1            1   \n",
       "\n",
       "   PAN_flag  VoterID_flag  Driving_flag  Passport_flag  PERFORM_CNS.SCORE  \\\n",
       "0         0             0             0              0                  0   \n",
       "1         0             0             0              0                598   \n",
       "2         0             0             0              0                  0   \n",
       "3         0             0             0              0                305   \n",
       "4         0             0             0              0                  0   \n",
       "\n",
       "  PERFORM_CNS.SCORE.DESCRIPTION  PRI.NO.OF.ACCTS  PRI.ACTIVE.ACCTS  \\\n",
       "0   No Bureau History Available                0                 0   \n",
       "1                 I-Medium Risk                1                 1   \n",
       "2   No Bureau History Available                0                 0   \n",
       "3              L-Very High Risk                3                 0   \n",
       "4   No Bureau History Available                0                 0   \n",
       "\n",
       "   PRI.OVERDUE.ACCTS  PRI.CURRENT.BALANCE  PRI.SANCTIONED.AMOUNT  \\\n",
       "0                  0                    0                      0   \n",
       "1                  1                27600                  50200   \n",
       "2                  0                    0                      0   \n",
       "3                  0                    0                      0   \n",
       "4                  0                    0                      0   \n",
       "\n",
       "   PRI.DISBURSED.AMOUNT  SEC.NO.OF.ACCTS  SEC.ACTIVE.ACCTS  SEC.OVERDUE.ACCTS  \\\n",
       "0                     0                0                 0                  0   \n",
       "1                 50200                0                 0                  0   \n",
       "2                     0                0                 0                  0   \n",
       "3                     0                0                 0                  0   \n",
       "4                     0                0                 0                  0   \n",
       "\n",
       "   SEC.CURRENT.BALANCE  SEC.SANCTIONED.AMOUNT  SEC.DISBURSED.AMOUNT  \\\n",
       "0                    0                      0                     0   \n",
       "1                    0                      0                     0   \n",
       "2                    0                      0                     0   \n",
       "3                    0                      0                     0   \n",
       "4                    0                      0                     0   \n",
       "\n",
       "   PRIMARY.INSTAL.AMT  SEC.INSTAL.AMT  NEW.ACCTS.IN.LAST.SIX.MONTHS  \\\n",
       "0                   0               0                             0   \n",
       "1                1991               0                             0   \n",
       "2                   0               0                             0   \n",
       "3                  31               0                             0   \n",
       "4                   0               0                             0   \n",
       "\n",
       "   DELINQUENT.ACCTS.IN.LAST.SIX.MONTHS AVERAGE.ACCT.AGE CREDIT.HISTORY.LENGTH  \\\n",
       "0                                    0        0yrs 0mon             0yrs 0mon   \n",
       "1                                    1       1yrs 11mon            1yrs 11mon   \n",
       "2                                    0        0yrs 0mon             0yrs 0mon   \n",
       "3                                    0        0yrs 8mon             1yrs 3mon   \n",
       "4                                    0        0yrs 0mon             0yrs 0mon   \n",
       "\n",
       "   NO.OF_INQUIRIES  loan_default  \n",
       "0                0             0  \n",
       "1                0             1  \n",
       "2                0             0  \n",
       "3                1             1  \n",
       "4                1             1  "
      ]
     },
     "execution_count": 50,
     "metadata": {},
     "output_type": "execute_result"
    }
   ],
   "source": [
    "srcdf.head()"
   ]
  },
  {
   "cell_type": "code",
   "execution_count": 51,
   "metadata": {},
   "outputs": [
    {
     "data": {
      "text/plain": [
       "Index(['UniqueID', 'disbursed_amount', 'asset_cost', 'ltv', 'branch_id',\n",
       "       'supplier_id', 'manufacturer_id', 'Current_pincode_ID', 'Date.of.Birth',\n",
       "       'Employment.Type', 'DisbursalDate', 'State_ID', 'Employee_code_ID',\n",
       "       'MobileNo_Avl_Flag', 'Aadhar_flag', 'PAN_flag', 'VoterID_flag',\n",
       "       'Driving_flag', 'Passport_flag', 'PERFORM_CNS.SCORE',\n",
       "       'PERFORM_CNS.SCORE.DESCRIPTION', 'PRI.NO.OF.ACCTS', 'PRI.ACTIVE.ACCTS',\n",
       "       'PRI.OVERDUE.ACCTS', 'PRI.CURRENT.BALANCE', 'PRI.SANCTIONED.AMOUNT',\n",
       "       'PRI.DISBURSED.AMOUNT', 'SEC.NO.OF.ACCTS', 'SEC.ACTIVE.ACCTS',\n",
       "       'SEC.OVERDUE.ACCTS', 'SEC.CURRENT.BALANCE', 'SEC.SANCTIONED.AMOUNT',\n",
       "       'SEC.DISBURSED.AMOUNT', 'PRIMARY.INSTAL.AMT', 'SEC.INSTAL.AMT',\n",
       "       'NEW.ACCTS.IN.LAST.SIX.MONTHS', 'DELINQUENT.ACCTS.IN.LAST.SIX.MONTHS',\n",
       "       'AVERAGE.ACCT.AGE', 'CREDIT.HISTORY.LENGTH', 'NO.OF_INQUIRIES',\n",
       "       'loan_default'],\n",
       "      dtype='object')"
      ]
     },
     "execution_count": 51,
     "metadata": {},
     "output_type": "execute_result"
    }
   ],
   "source": [
    "srcdf.columns"
   ]
  },
  {
   "cell_type": "markdown",
   "metadata": {},
   "source": [
    "## Checking for NULL Values"
   ]
  },
  {
   "cell_type": "code",
   "execution_count": 52,
   "metadata": {},
   "outputs": [
    {
     "data": {
      "text/plain": [
       "UniqueID                                  0\n",
       "disbursed_amount                          0\n",
       "asset_cost                                0\n",
       "ltv                                       0\n",
       "branch_id                                 0\n",
       "supplier_id                               0\n",
       "manufacturer_id                           0\n",
       "Current_pincode_ID                        0\n",
       "Date.of.Birth                             0\n",
       "Employment.Type                        7661\n",
       "DisbursalDate                             0\n",
       "State_ID                                  0\n",
       "Employee_code_ID                          0\n",
       "MobileNo_Avl_Flag                         0\n",
       "Aadhar_flag                               0\n",
       "PAN_flag                                  0\n",
       "VoterID_flag                              0\n",
       "Driving_flag                              0\n",
       "Passport_flag                             0\n",
       "PERFORM_CNS.SCORE                         0\n",
       "PERFORM_CNS.SCORE.DESCRIPTION             0\n",
       "PRI.NO.OF.ACCTS                           0\n",
       "PRI.ACTIVE.ACCTS                          0\n",
       "PRI.OVERDUE.ACCTS                         0\n",
       "PRI.CURRENT.BALANCE                       0\n",
       "PRI.SANCTIONED.AMOUNT                     0\n",
       "PRI.DISBURSED.AMOUNT                      0\n",
       "SEC.NO.OF.ACCTS                           0\n",
       "SEC.ACTIVE.ACCTS                          0\n",
       "SEC.OVERDUE.ACCTS                         0\n",
       "SEC.CURRENT.BALANCE                       0\n",
       "SEC.SANCTIONED.AMOUNT                     0\n",
       "SEC.DISBURSED.AMOUNT                      0\n",
       "PRIMARY.INSTAL.AMT                        0\n",
       "SEC.INSTAL.AMT                            0\n",
       "NEW.ACCTS.IN.LAST.SIX.MONTHS              0\n",
       "DELINQUENT.ACCTS.IN.LAST.SIX.MONTHS       0\n",
       "AVERAGE.ACCT.AGE                          0\n",
       "CREDIT.HISTORY.LENGTH                     0\n",
       "NO.OF_INQUIRIES                           0\n",
       "loan_default                              0\n",
       "dtype: int64"
      ]
     },
     "execution_count": 52,
     "metadata": {},
     "output_type": "execute_result"
    }
   ],
   "source": [
    "srcdf.isnull().sum()"
   ]
  },
  {
   "cell_type": "markdown",
   "metadata": {},
   "source": [
    "## Replacing . with _ in the column names as it is not being recognised as column names in pandas library"
   ]
  },
  {
   "cell_type": "code",
   "execution_count": 53,
   "metadata": {},
   "outputs": [],
   "source": [
    "tmpColumns = {}\n",
    "tmpcolumns = list(srcdf.columns)\n",
    "for i in srcdf.columns:\n",
    "    if ('.' in i):\n",
    "        tmpColumns.update({tmpcolumns[tmpcolumns.index(i)]: i.replace('.','_')})"
   ]
  },
  {
   "cell_type": "code",
   "execution_count": 54,
   "metadata": {},
   "outputs": [
    {
     "data": {
      "text/plain": [
       "{'Date.of.Birth': 'Date_of_Birth',\n",
       " 'Employment.Type': 'Employment_Type',\n",
       " 'PERFORM_CNS.SCORE': 'PERFORM_CNS_SCORE',\n",
       " 'PERFORM_CNS.SCORE.DESCRIPTION': 'PERFORM_CNS_SCORE_DESCRIPTION',\n",
       " 'PRI.NO.OF.ACCTS': 'PRI_NO_OF_ACCTS',\n",
       " 'PRI.ACTIVE.ACCTS': 'PRI_ACTIVE_ACCTS',\n",
       " 'PRI.OVERDUE.ACCTS': 'PRI_OVERDUE_ACCTS',\n",
       " 'PRI.CURRENT.BALANCE': 'PRI_CURRENT_BALANCE',\n",
       " 'PRI.SANCTIONED.AMOUNT': 'PRI_SANCTIONED_AMOUNT',\n",
       " 'PRI.DISBURSED.AMOUNT': 'PRI_DISBURSED_AMOUNT',\n",
       " 'SEC.NO.OF.ACCTS': 'SEC_NO_OF_ACCTS',\n",
       " 'SEC.ACTIVE.ACCTS': 'SEC_ACTIVE_ACCTS',\n",
       " 'SEC.OVERDUE.ACCTS': 'SEC_OVERDUE_ACCTS',\n",
       " 'SEC.CURRENT.BALANCE': 'SEC_CURRENT_BALANCE',\n",
       " 'SEC.SANCTIONED.AMOUNT': 'SEC_SANCTIONED_AMOUNT',\n",
       " 'SEC.DISBURSED.AMOUNT': 'SEC_DISBURSED_AMOUNT',\n",
       " 'PRIMARY.INSTAL.AMT': 'PRIMARY_INSTAL_AMT',\n",
       " 'SEC.INSTAL.AMT': 'SEC_INSTAL_AMT',\n",
       " 'NEW.ACCTS.IN.LAST.SIX.MONTHS': 'NEW_ACCTS_IN_LAST_SIX_MONTHS',\n",
       " 'DELINQUENT.ACCTS.IN.LAST.SIX.MONTHS': 'DELINQUENT_ACCTS_IN_LAST_SIX_MONTHS',\n",
       " 'AVERAGE.ACCT.AGE': 'AVERAGE_ACCT_AGE',\n",
       " 'CREDIT.HISTORY.LENGTH': 'CREDIT_HISTORY_LENGTH',\n",
       " 'NO.OF_INQUIRIES': 'NO_OF_INQUIRIES'}"
      ]
     },
     "execution_count": 54,
     "metadata": {},
     "output_type": "execute_result"
    }
   ],
   "source": [
    "tmpColumns"
   ]
  },
  {
   "cell_type": "code",
   "execution_count": 55,
   "metadata": {},
   "outputs": [],
   "source": [
    "srcdf = srcdf.rename(columns=tmpColumns)"
   ]
  },
  {
   "cell_type": "code",
   "execution_count": 56,
   "metadata": {},
   "outputs": [
    {
     "data": {
      "text/plain": [
       "UniqueID                                  0\n",
       "disbursed_amount                          0\n",
       "asset_cost                                0\n",
       "ltv                                       0\n",
       "branch_id                                 0\n",
       "supplier_id                               0\n",
       "manufacturer_id                           0\n",
       "Current_pincode_ID                        0\n",
       "Date_of_Birth                             0\n",
       "Employment_Type                        7661\n",
       "DisbursalDate                             0\n",
       "State_ID                                  0\n",
       "Employee_code_ID                          0\n",
       "MobileNo_Avl_Flag                         0\n",
       "Aadhar_flag                               0\n",
       "PAN_flag                                  0\n",
       "VoterID_flag                              0\n",
       "Driving_flag                              0\n",
       "Passport_flag                             0\n",
       "PERFORM_CNS_SCORE                         0\n",
       "PERFORM_CNS_SCORE_DESCRIPTION             0\n",
       "PRI_NO_OF_ACCTS                           0\n",
       "PRI_ACTIVE_ACCTS                          0\n",
       "PRI_OVERDUE_ACCTS                         0\n",
       "PRI_CURRENT_BALANCE                       0\n",
       "PRI_SANCTIONED_AMOUNT                     0\n",
       "PRI_DISBURSED_AMOUNT                      0\n",
       "SEC_NO_OF_ACCTS                           0\n",
       "SEC_ACTIVE_ACCTS                          0\n",
       "SEC_OVERDUE_ACCTS                         0\n",
       "SEC_CURRENT_BALANCE                       0\n",
       "SEC_SANCTIONED_AMOUNT                     0\n",
       "SEC_DISBURSED_AMOUNT                      0\n",
       "PRIMARY_INSTAL_AMT                        0\n",
       "SEC_INSTAL_AMT                            0\n",
       "NEW_ACCTS_IN_LAST_SIX_MONTHS              0\n",
       "DELINQUENT_ACCTS_IN_LAST_SIX_MONTHS       0\n",
       "AVERAGE_ACCT_AGE                          0\n",
       "CREDIT_HISTORY_LENGTH                     0\n",
       "NO_OF_INQUIRIES                           0\n",
       "loan_default                              0\n",
       "dtype: int64"
      ]
     },
     "execution_count": 56,
     "metadata": {},
     "output_type": "execute_result"
    }
   ],
   "source": [
    "srcdf.isnull().sum()"
   ]
  },
  {
   "cell_type": "code",
   "execution_count": 57,
   "metadata": {},
   "outputs": [],
   "source": [
    "Description = ['Id- Will be excluded', 'Disbursed loan amount (Target value for case 3)', 'Asset cost', 'Total Value', 'Id- Will be excluded',\n",
    "       'Id- Will be excluded', 'Id- Will be excluded', 'Id- Will be excluded', 'Id- Will be excluded',\n",
    "       'Id- Will be excluded', 'MobileNo Given or not', 'Aadhar Given or not', 'PAN Given or not',\n",
    "       'VoterID Given or not', 'Driving ID Given or not', 'Passport Given or not', 'Credit score',\n",
    "       'No. of Accts', 'Primary Active Accts', 'Primary Overdue Accts',\n",
    "       'Pimary Acc Bal', 'Primary sanctioned Amnt', 'Primary disbursed Amnt',\n",
    "       'Secondary No. of Accts', 'Secondary Active Accts', 'Secondary Overdue Accts',\n",
    "       'Secondary Acct Bal', 'Secondary Sanctioned Amnt', 'Secondary Disbursed Amnt',\n",
    "       'Primary Instalment Amnt', 'Secondary Instalment Amnt', 'New Accts in last 6 months',\n",
    "       'Delinquent Accts in last 6 months', 'No of Inquires',\n",
    "       'loan_default (Target value for case 2)']"
   ]
  },
  {
   "cell_type": "code",
   "execution_count": 58,
   "metadata": {},
   "outputs": [
    {
     "data": {
      "text/html": [
       "<style  type=\"text/css\" >\n",
       "</style><table id=\"T_a5935a6a_8cd4_11ea_970b_a45e60d77265\" ><thead>    <tr>        <th class=\"blank level0\" ></th>        <th class=\"col_heading level0 col0\" >Data_type</th>        <th class=\"col_heading level0 col1\" >Description</th>    </tr></thead><tbody>\n",
       "                <tr>\n",
       "                        <th id=\"T_a5935a6a_8cd4_11ea_970b_a45e60d77265level0_row0\" class=\"row_heading level0 row0\" >UniqueID</th>\n",
       "                        <td id=\"T_a5935a6a_8cd4_11ea_970b_a45e60d77265row0_col0\" class=\"data row0 col0\" >int64</td>\n",
       "                        <td id=\"T_a5935a6a_8cd4_11ea_970b_a45e60d77265row0_col1\" class=\"data row0 col1\" >Id- Will be excluded</td>\n",
       "            </tr>\n",
       "            <tr>\n",
       "                        <th id=\"T_a5935a6a_8cd4_11ea_970b_a45e60d77265level0_row1\" class=\"row_heading level0 row1\" >disbursed_amount</th>\n",
       "                        <td id=\"T_a5935a6a_8cd4_11ea_970b_a45e60d77265row1_col0\" class=\"data row1 col0\" >int64</td>\n",
       "                        <td id=\"T_a5935a6a_8cd4_11ea_970b_a45e60d77265row1_col1\" class=\"data row1 col1\" >Disbursed loan amount (Target value for case 3)</td>\n",
       "            </tr>\n",
       "            <tr>\n",
       "                        <th id=\"T_a5935a6a_8cd4_11ea_970b_a45e60d77265level0_row2\" class=\"row_heading level0 row2\" >asset_cost</th>\n",
       "                        <td id=\"T_a5935a6a_8cd4_11ea_970b_a45e60d77265row2_col0\" class=\"data row2 col0\" >int64</td>\n",
       "                        <td id=\"T_a5935a6a_8cd4_11ea_970b_a45e60d77265row2_col1\" class=\"data row2 col1\" >Asset cost</td>\n",
       "            </tr>\n",
       "            <tr>\n",
       "                        <th id=\"T_a5935a6a_8cd4_11ea_970b_a45e60d77265level0_row3\" class=\"row_heading level0 row3\" >ltv</th>\n",
       "                        <td id=\"T_a5935a6a_8cd4_11ea_970b_a45e60d77265row3_col0\" class=\"data row3 col0\" >float64</td>\n",
       "                        <td id=\"T_a5935a6a_8cd4_11ea_970b_a45e60d77265row3_col1\" class=\"data row3 col1\" >Total Value</td>\n",
       "            </tr>\n",
       "            <tr>\n",
       "                        <th id=\"T_a5935a6a_8cd4_11ea_970b_a45e60d77265level0_row4\" class=\"row_heading level0 row4\" >branch_id</th>\n",
       "                        <td id=\"T_a5935a6a_8cd4_11ea_970b_a45e60d77265row4_col0\" class=\"data row4 col0\" >int64</td>\n",
       "                        <td id=\"T_a5935a6a_8cd4_11ea_970b_a45e60d77265row4_col1\" class=\"data row4 col1\" >Id- Will be excluded</td>\n",
       "            </tr>\n",
       "            <tr>\n",
       "                        <th id=\"T_a5935a6a_8cd4_11ea_970b_a45e60d77265level0_row5\" class=\"row_heading level0 row5\" >supplier_id</th>\n",
       "                        <td id=\"T_a5935a6a_8cd4_11ea_970b_a45e60d77265row5_col0\" class=\"data row5 col0\" >int64</td>\n",
       "                        <td id=\"T_a5935a6a_8cd4_11ea_970b_a45e60d77265row5_col1\" class=\"data row5 col1\" >Id- Will be excluded</td>\n",
       "            </tr>\n",
       "            <tr>\n",
       "                        <th id=\"T_a5935a6a_8cd4_11ea_970b_a45e60d77265level0_row6\" class=\"row_heading level0 row6\" >manufacturer_id</th>\n",
       "                        <td id=\"T_a5935a6a_8cd4_11ea_970b_a45e60d77265row6_col0\" class=\"data row6 col0\" >int64</td>\n",
       "                        <td id=\"T_a5935a6a_8cd4_11ea_970b_a45e60d77265row6_col1\" class=\"data row6 col1\" >Id- Will be excluded</td>\n",
       "            </tr>\n",
       "            <tr>\n",
       "                        <th id=\"T_a5935a6a_8cd4_11ea_970b_a45e60d77265level0_row7\" class=\"row_heading level0 row7\" >Current_pincode_ID</th>\n",
       "                        <td id=\"T_a5935a6a_8cd4_11ea_970b_a45e60d77265row7_col0\" class=\"data row7 col0\" >int64</td>\n",
       "                        <td id=\"T_a5935a6a_8cd4_11ea_970b_a45e60d77265row7_col1\" class=\"data row7 col1\" >Id- Will be excluded</td>\n",
       "            </tr>\n",
       "            <tr>\n",
       "                        <th id=\"T_a5935a6a_8cd4_11ea_970b_a45e60d77265level0_row8\" class=\"row_heading level0 row8\" >State_ID</th>\n",
       "                        <td id=\"T_a5935a6a_8cd4_11ea_970b_a45e60d77265row8_col0\" class=\"data row8 col0\" >int64</td>\n",
       "                        <td id=\"T_a5935a6a_8cd4_11ea_970b_a45e60d77265row8_col1\" class=\"data row8 col1\" >Id- Will be excluded</td>\n",
       "            </tr>\n",
       "            <tr>\n",
       "                        <th id=\"T_a5935a6a_8cd4_11ea_970b_a45e60d77265level0_row9\" class=\"row_heading level0 row9\" >Employee_code_ID</th>\n",
       "                        <td id=\"T_a5935a6a_8cd4_11ea_970b_a45e60d77265row9_col0\" class=\"data row9 col0\" >int64</td>\n",
       "                        <td id=\"T_a5935a6a_8cd4_11ea_970b_a45e60d77265row9_col1\" class=\"data row9 col1\" >Id- Will be excluded</td>\n",
       "            </tr>\n",
       "            <tr>\n",
       "                        <th id=\"T_a5935a6a_8cd4_11ea_970b_a45e60d77265level0_row10\" class=\"row_heading level0 row10\" >MobileNo_Avl_Flag</th>\n",
       "                        <td id=\"T_a5935a6a_8cd4_11ea_970b_a45e60d77265row10_col0\" class=\"data row10 col0\" >int64</td>\n",
       "                        <td id=\"T_a5935a6a_8cd4_11ea_970b_a45e60d77265row10_col1\" class=\"data row10 col1\" >MobileNo Given or not</td>\n",
       "            </tr>\n",
       "            <tr>\n",
       "                        <th id=\"T_a5935a6a_8cd4_11ea_970b_a45e60d77265level0_row11\" class=\"row_heading level0 row11\" >Aadhar_flag</th>\n",
       "                        <td id=\"T_a5935a6a_8cd4_11ea_970b_a45e60d77265row11_col0\" class=\"data row11 col0\" >int64</td>\n",
       "                        <td id=\"T_a5935a6a_8cd4_11ea_970b_a45e60d77265row11_col1\" class=\"data row11 col1\" >Aadhar Given or not</td>\n",
       "            </tr>\n",
       "            <tr>\n",
       "                        <th id=\"T_a5935a6a_8cd4_11ea_970b_a45e60d77265level0_row12\" class=\"row_heading level0 row12\" >PAN_flag</th>\n",
       "                        <td id=\"T_a5935a6a_8cd4_11ea_970b_a45e60d77265row12_col0\" class=\"data row12 col0\" >int64</td>\n",
       "                        <td id=\"T_a5935a6a_8cd4_11ea_970b_a45e60d77265row12_col1\" class=\"data row12 col1\" >PAN Given or not</td>\n",
       "            </tr>\n",
       "            <tr>\n",
       "                        <th id=\"T_a5935a6a_8cd4_11ea_970b_a45e60d77265level0_row13\" class=\"row_heading level0 row13\" >VoterID_flag</th>\n",
       "                        <td id=\"T_a5935a6a_8cd4_11ea_970b_a45e60d77265row13_col0\" class=\"data row13 col0\" >int64</td>\n",
       "                        <td id=\"T_a5935a6a_8cd4_11ea_970b_a45e60d77265row13_col1\" class=\"data row13 col1\" >VoterID Given or not</td>\n",
       "            </tr>\n",
       "            <tr>\n",
       "                        <th id=\"T_a5935a6a_8cd4_11ea_970b_a45e60d77265level0_row14\" class=\"row_heading level0 row14\" >Driving_flag</th>\n",
       "                        <td id=\"T_a5935a6a_8cd4_11ea_970b_a45e60d77265row14_col0\" class=\"data row14 col0\" >int64</td>\n",
       "                        <td id=\"T_a5935a6a_8cd4_11ea_970b_a45e60d77265row14_col1\" class=\"data row14 col1\" >Driving ID Given or not</td>\n",
       "            </tr>\n",
       "            <tr>\n",
       "                        <th id=\"T_a5935a6a_8cd4_11ea_970b_a45e60d77265level0_row15\" class=\"row_heading level0 row15\" >Passport_flag</th>\n",
       "                        <td id=\"T_a5935a6a_8cd4_11ea_970b_a45e60d77265row15_col0\" class=\"data row15 col0\" >int64</td>\n",
       "                        <td id=\"T_a5935a6a_8cd4_11ea_970b_a45e60d77265row15_col1\" class=\"data row15 col1\" >Passport Given or not</td>\n",
       "            </tr>\n",
       "            <tr>\n",
       "                        <th id=\"T_a5935a6a_8cd4_11ea_970b_a45e60d77265level0_row16\" class=\"row_heading level0 row16\" >PERFORM_CNS_SCORE</th>\n",
       "                        <td id=\"T_a5935a6a_8cd4_11ea_970b_a45e60d77265row16_col0\" class=\"data row16 col0\" >int64</td>\n",
       "                        <td id=\"T_a5935a6a_8cd4_11ea_970b_a45e60d77265row16_col1\" class=\"data row16 col1\" >Credit score</td>\n",
       "            </tr>\n",
       "            <tr>\n",
       "                        <th id=\"T_a5935a6a_8cd4_11ea_970b_a45e60d77265level0_row17\" class=\"row_heading level0 row17\" >PRI_NO_OF_ACCTS</th>\n",
       "                        <td id=\"T_a5935a6a_8cd4_11ea_970b_a45e60d77265row17_col0\" class=\"data row17 col0\" >int64</td>\n",
       "                        <td id=\"T_a5935a6a_8cd4_11ea_970b_a45e60d77265row17_col1\" class=\"data row17 col1\" >No. of Accts</td>\n",
       "            </tr>\n",
       "            <tr>\n",
       "                        <th id=\"T_a5935a6a_8cd4_11ea_970b_a45e60d77265level0_row18\" class=\"row_heading level0 row18\" >PRI_ACTIVE_ACCTS</th>\n",
       "                        <td id=\"T_a5935a6a_8cd4_11ea_970b_a45e60d77265row18_col0\" class=\"data row18 col0\" >int64</td>\n",
       "                        <td id=\"T_a5935a6a_8cd4_11ea_970b_a45e60d77265row18_col1\" class=\"data row18 col1\" >Primary Active Accts</td>\n",
       "            </tr>\n",
       "            <tr>\n",
       "                        <th id=\"T_a5935a6a_8cd4_11ea_970b_a45e60d77265level0_row19\" class=\"row_heading level0 row19\" >PRI_OVERDUE_ACCTS</th>\n",
       "                        <td id=\"T_a5935a6a_8cd4_11ea_970b_a45e60d77265row19_col0\" class=\"data row19 col0\" >int64</td>\n",
       "                        <td id=\"T_a5935a6a_8cd4_11ea_970b_a45e60d77265row19_col1\" class=\"data row19 col1\" >Primary Overdue Accts</td>\n",
       "            </tr>\n",
       "            <tr>\n",
       "                        <th id=\"T_a5935a6a_8cd4_11ea_970b_a45e60d77265level0_row20\" class=\"row_heading level0 row20\" >PRI_CURRENT_BALANCE</th>\n",
       "                        <td id=\"T_a5935a6a_8cd4_11ea_970b_a45e60d77265row20_col0\" class=\"data row20 col0\" >int64</td>\n",
       "                        <td id=\"T_a5935a6a_8cd4_11ea_970b_a45e60d77265row20_col1\" class=\"data row20 col1\" >Pimary Acc Bal</td>\n",
       "            </tr>\n",
       "            <tr>\n",
       "                        <th id=\"T_a5935a6a_8cd4_11ea_970b_a45e60d77265level0_row21\" class=\"row_heading level0 row21\" >PRI_SANCTIONED_AMOUNT</th>\n",
       "                        <td id=\"T_a5935a6a_8cd4_11ea_970b_a45e60d77265row21_col0\" class=\"data row21 col0\" >int64</td>\n",
       "                        <td id=\"T_a5935a6a_8cd4_11ea_970b_a45e60d77265row21_col1\" class=\"data row21 col1\" >Primary sanctioned Amnt</td>\n",
       "            </tr>\n",
       "            <tr>\n",
       "                        <th id=\"T_a5935a6a_8cd4_11ea_970b_a45e60d77265level0_row22\" class=\"row_heading level0 row22\" >PRI_DISBURSED_AMOUNT</th>\n",
       "                        <td id=\"T_a5935a6a_8cd4_11ea_970b_a45e60d77265row22_col0\" class=\"data row22 col0\" >int64</td>\n",
       "                        <td id=\"T_a5935a6a_8cd4_11ea_970b_a45e60d77265row22_col1\" class=\"data row22 col1\" >Primary disbursed Amnt</td>\n",
       "            </tr>\n",
       "            <tr>\n",
       "                        <th id=\"T_a5935a6a_8cd4_11ea_970b_a45e60d77265level0_row23\" class=\"row_heading level0 row23\" >SEC_NO_OF_ACCTS</th>\n",
       "                        <td id=\"T_a5935a6a_8cd4_11ea_970b_a45e60d77265row23_col0\" class=\"data row23 col0\" >int64</td>\n",
       "                        <td id=\"T_a5935a6a_8cd4_11ea_970b_a45e60d77265row23_col1\" class=\"data row23 col1\" >Secondary No. of Accts</td>\n",
       "            </tr>\n",
       "            <tr>\n",
       "                        <th id=\"T_a5935a6a_8cd4_11ea_970b_a45e60d77265level0_row24\" class=\"row_heading level0 row24\" >SEC_ACTIVE_ACCTS</th>\n",
       "                        <td id=\"T_a5935a6a_8cd4_11ea_970b_a45e60d77265row24_col0\" class=\"data row24 col0\" >int64</td>\n",
       "                        <td id=\"T_a5935a6a_8cd4_11ea_970b_a45e60d77265row24_col1\" class=\"data row24 col1\" >Secondary Active Accts</td>\n",
       "            </tr>\n",
       "            <tr>\n",
       "                        <th id=\"T_a5935a6a_8cd4_11ea_970b_a45e60d77265level0_row25\" class=\"row_heading level0 row25\" >SEC_OVERDUE_ACCTS</th>\n",
       "                        <td id=\"T_a5935a6a_8cd4_11ea_970b_a45e60d77265row25_col0\" class=\"data row25 col0\" >int64</td>\n",
       "                        <td id=\"T_a5935a6a_8cd4_11ea_970b_a45e60d77265row25_col1\" class=\"data row25 col1\" >Secondary Overdue Accts</td>\n",
       "            </tr>\n",
       "            <tr>\n",
       "                        <th id=\"T_a5935a6a_8cd4_11ea_970b_a45e60d77265level0_row26\" class=\"row_heading level0 row26\" >SEC_CURRENT_BALANCE</th>\n",
       "                        <td id=\"T_a5935a6a_8cd4_11ea_970b_a45e60d77265row26_col0\" class=\"data row26 col0\" >int64</td>\n",
       "                        <td id=\"T_a5935a6a_8cd4_11ea_970b_a45e60d77265row26_col1\" class=\"data row26 col1\" >Secondary Acct Bal</td>\n",
       "            </tr>\n",
       "            <tr>\n",
       "                        <th id=\"T_a5935a6a_8cd4_11ea_970b_a45e60d77265level0_row27\" class=\"row_heading level0 row27\" >SEC_SANCTIONED_AMOUNT</th>\n",
       "                        <td id=\"T_a5935a6a_8cd4_11ea_970b_a45e60d77265row27_col0\" class=\"data row27 col0\" >int64</td>\n",
       "                        <td id=\"T_a5935a6a_8cd4_11ea_970b_a45e60d77265row27_col1\" class=\"data row27 col1\" >Secondary Sanctioned Amnt</td>\n",
       "            </tr>\n",
       "            <tr>\n",
       "                        <th id=\"T_a5935a6a_8cd4_11ea_970b_a45e60d77265level0_row28\" class=\"row_heading level0 row28\" >SEC_DISBURSED_AMOUNT</th>\n",
       "                        <td id=\"T_a5935a6a_8cd4_11ea_970b_a45e60d77265row28_col0\" class=\"data row28 col0\" >int64</td>\n",
       "                        <td id=\"T_a5935a6a_8cd4_11ea_970b_a45e60d77265row28_col1\" class=\"data row28 col1\" >Secondary Disbursed Amnt</td>\n",
       "            </tr>\n",
       "            <tr>\n",
       "                        <th id=\"T_a5935a6a_8cd4_11ea_970b_a45e60d77265level0_row29\" class=\"row_heading level0 row29\" >PRIMARY_INSTAL_AMT</th>\n",
       "                        <td id=\"T_a5935a6a_8cd4_11ea_970b_a45e60d77265row29_col0\" class=\"data row29 col0\" >int64</td>\n",
       "                        <td id=\"T_a5935a6a_8cd4_11ea_970b_a45e60d77265row29_col1\" class=\"data row29 col1\" >Primary Instalment Amnt</td>\n",
       "            </tr>\n",
       "            <tr>\n",
       "                        <th id=\"T_a5935a6a_8cd4_11ea_970b_a45e60d77265level0_row30\" class=\"row_heading level0 row30\" >SEC_INSTAL_AMT</th>\n",
       "                        <td id=\"T_a5935a6a_8cd4_11ea_970b_a45e60d77265row30_col0\" class=\"data row30 col0\" >int64</td>\n",
       "                        <td id=\"T_a5935a6a_8cd4_11ea_970b_a45e60d77265row30_col1\" class=\"data row30 col1\" >Secondary Instalment Amnt</td>\n",
       "            </tr>\n",
       "            <tr>\n",
       "                        <th id=\"T_a5935a6a_8cd4_11ea_970b_a45e60d77265level0_row31\" class=\"row_heading level0 row31\" >NEW_ACCTS_IN_LAST_SIX_MONTHS</th>\n",
       "                        <td id=\"T_a5935a6a_8cd4_11ea_970b_a45e60d77265row31_col0\" class=\"data row31 col0\" >int64</td>\n",
       "                        <td id=\"T_a5935a6a_8cd4_11ea_970b_a45e60d77265row31_col1\" class=\"data row31 col1\" >New Accts in last 6 months</td>\n",
       "            </tr>\n",
       "            <tr>\n",
       "                        <th id=\"T_a5935a6a_8cd4_11ea_970b_a45e60d77265level0_row32\" class=\"row_heading level0 row32\" >DELINQUENT_ACCTS_IN_LAST_SIX_MONTHS</th>\n",
       "                        <td id=\"T_a5935a6a_8cd4_11ea_970b_a45e60d77265row32_col0\" class=\"data row32 col0\" >int64</td>\n",
       "                        <td id=\"T_a5935a6a_8cd4_11ea_970b_a45e60d77265row32_col1\" class=\"data row32 col1\" >Delinquent Accts in last 6 months</td>\n",
       "            </tr>\n",
       "            <tr>\n",
       "                        <th id=\"T_a5935a6a_8cd4_11ea_970b_a45e60d77265level0_row33\" class=\"row_heading level0 row33\" >NO_OF_INQUIRIES</th>\n",
       "                        <td id=\"T_a5935a6a_8cd4_11ea_970b_a45e60d77265row33_col0\" class=\"data row33 col0\" >int64</td>\n",
       "                        <td id=\"T_a5935a6a_8cd4_11ea_970b_a45e60d77265row33_col1\" class=\"data row33 col1\" >No of Inquires</td>\n",
       "            </tr>\n",
       "            <tr>\n",
       "                        <th id=\"T_a5935a6a_8cd4_11ea_970b_a45e60d77265level0_row34\" class=\"row_heading level0 row34\" >loan_default</th>\n",
       "                        <td id=\"T_a5935a6a_8cd4_11ea_970b_a45e60d77265row34_col0\" class=\"data row34 col0\" >int64</td>\n",
       "                        <td id=\"T_a5935a6a_8cd4_11ea_970b_a45e60d77265row34_col1\" class=\"data row34 col1\" >loan_default (Target value for case 2)</td>\n",
       "            </tr>\n",
       "    </tbody></table>"
      ],
      "text/plain": [
       "<pandas.io.formats.style.Styler at 0x1441f8410>"
      ]
     },
     "execution_count": 58,
     "metadata": {},
     "output_type": "execute_result"
    }
   ],
   "source": [
    "pd.DataFrame({'Data_type':srcdf.select_dtypes([np.number]).dtypes,\n",
    "             'Description':Description}).style.background_gradient(cmap='viridis')"
   ]
  },
  {
   "cell_type": "code",
   "execution_count": 59,
   "metadata": {},
   "outputs": [
    {
     "data": {
      "text/plain": [
       "<matplotlib.axes._subplots.AxesSubplot at 0x123b00710>"
      ]
     },
     "execution_count": 59,
     "metadata": {},
     "output_type": "execute_result"
    },
    {
     "data": {
      "image/png": "[encoded data removed]",
      "text/plain": [
       "<Figure size 1800x720 with 2 Axes>"
      ]
     },
     "metadata": {
      "needs_background": "light"
     },
     "output_type": "display_data"
    }
   ],
   "source": [
    "msno.matrix(srcdf)"
   ]
  },
  {
   "cell_type": "markdown",
   "metadata": {},
   "source": [
    "## Balancing an unbalanced Dataset"
   ]
  },
  {
   "cell_type": "code",
   "execution_count": 60,
   "metadata": {},
   "outputs": [
    {
     "data": {
      "text/plain": [
       "[Text(0.5, 1.0, 'Unbalanced dataset')]"
      ]
     },
     "execution_count": 60,
     "metadata": {},
     "output_type": "execute_result"
    },
    {
     "data": {
      "image/png": "[encoded data removed]",
      "text/plain": [
       "<Figure size 432x288 with 1 Axes>"
      ]
     },
     "metadata": {
      "needs_background": "light"
     },
     "output_type": "display_data"
    }
   ],
   "source": [
    "# Unbalanced dataset\n",
    "sns.countplot(x='loan_default',data=srcdf).set(title=\"Unbalanced dataset\")"
   ]
  },
  {
   "cell_type": "code",
   "execution_count": 61,
   "metadata": {},
   "outputs": [],
   "source": [
    "# Balancing dataset\n",
    "from sklearn.utils import resample\n",
    "not_default = srcdf[srcdf.loan_default==0]\n",
    "default = srcdf[srcdf.loan_default==1]\n",
    "\n",
    "# upsample minority\n",
    "resampled = resample(not_default,\n",
    "                          replace=True, # sample with replacement\n",
    "                          n_samples=len(default)+10000, # match number in majority class\n",
    "                          random_state=27) # reproducible results\n",
    "\n",
    "# combine majority and upsampled minority\n",
    "#upsampled = pd.concat([not_fraud, fraud_upsampled])\n",
    "final_df = pd.concat([resampled,default],ignore_index=True)"
   ]
  },
  {
   "cell_type": "code",
   "execution_count": 62,
   "metadata": {},
   "outputs": [
    {
     "data": {
      "text/html": [
       "<div>\n",
       "<style scoped>\n",
       "    .dataframe tbody tr th:only-of-type {\n",
       "        vertical-align: middle;\n",
       "    }\n",
       "\n",
       "    .dataframe tbody tr th {\n",
       "        vertical-align: top;\n",
       "    }\n",
       "\n",
       "    .dataframe thead th {\n",
       "        text-align: right;\n",
       "    }\n",
       "</style>\n",
       "<table border=\"1\" class=\"dataframe\">\n",
       "  <thead>\n",
       "    <tr style=\"text-align: right;\">\n",
       "      <th></th>\n",
       "      <th>UniqueID</th>\n",
       "      <th>disbursed_amount</th>\n",
       "      <th>asset_cost</th>\n",
       "      <th>ltv</th>\n",
       "      <th>branch_id</th>\n",
       "      <th>supplier_id</th>\n",
       "      <th>manufacturer_id</th>\n",
       "      <th>Current_pincode_ID</th>\n",
       "      <th>Date_of_Birth</th>\n",
       "      <th>Employment_Type</th>\n",
       "      <th>DisbursalDate</th>\n",
       "      <th>State_ID</th>\n",
       "      <th>Employee_code_ID</th>\n",
       "      <th>MobileNo_Avl_Flag</th>\n",
       "      <th>Aadhar_flag</th>\n",
       "      <th>PAN_flag</th>\n",
       "      <th>VoterID_flag</th>\n",
       "      <th>Driving_flag</th>\n",
       "      <th>Passport_flag</th>\n",
       "      <th>PERFORM_CNS_SCORE</th>\n",
       "      <th>PERFORM_CNS_SCORE_DESCRIPTION</th>\n",
       "      <th>PRI_NO_OF_ACCTS</th>\n",
       "      <th>PRI_ACTIVE_ACCTS</th>\n",
       "      <th>PRI_OVERDUE_ACCTS</th>\n",
       "      <th>PRI_CURRENT_BALANCE</th>\n",
       "      <th>PRI_SANCTIONED_AMOUNT</th>\n",
       "      <th>PRI_DISBURSED_AMOUNT</th>\n",
       "      <th>SEC_NO_OF_ACCTS</th>\n",
       "      <th>SEC_ACTIVE_ACCTS</th>\n",
       "      <th>SEC_OVERDUE_ACCTS</th>\n",
       "      <th>SEC_CURRENT_BALANCE</th>\n",
       "      <th>SEC_SANCTIONED_AMOUNT</th>\n",
       "      <th>SEC_DISBURSED_AMOUNT</th>\n",
       "      <th>PRIMARY_INSTAL_AMT</th>\n",
       "      <th>SEC_INSTAL_AMT</th>\n",
       "      <th>NEW_ACCTS_IN_LAST_SIX_MONTHS</th>\n",
       "      <th>DELINQUENT_ACCTS_IN_LAST_SIX_MONTHS</th>\n",
       "      <th>AVERAGE_ACCT_AGE</th>\n",
       "      <th>CREDIT_HISTORY_LENGTH</th>\n",
       "      <th>NO_OF_INQUIRIES</th>\n",
       "      <th>loan_default</th>\n",
       "    </tr>\n",
       "  </thead>\n",
       "  <tbody>\n",
       "    <tr>\n",
       "      <td>0</td>\n",
       "      <td>616512</td>\n",
       "      <td>35089</td>\n",
       "      <td>71100</td>\n",
       "      <td>50.98</td>\n",
       "      <td>29</td>\n",
       "      <td>22746</td>\n",
       "      <td>86</td>\n",
       "      <td>5898</td>\n",
       "      <td>01-02-90</td>\n",
       "      <td>Self employed</td>\n",
       "      <td>25-10-18</td>\n",
       "      <td>3</td>\n",
       "      <td>1622</td>\n",
       "      <td>1</td>\n",
       "      <td>1</td>\n",
       "      <td>0</td>\n",
       "      <td>0</td>\n",
       "      <td>0</td>\n",
       "      <td>0</td>\n",
       "      <td>0</td>\n",
       "      <td>No Bureau History Available</td>\n",
       "      <td>0</td>\n",
       "      <td>0</td>\n",
       "      <td>0</td>\n",
       "      <td>0</td>\n",
       "      <td>0</td>\n",
       "      <td>0</td>\n",
       "      <td>0</td>\n",
       "      <td>0</td>\n",
       "      <td>0</td>\n",
       "      <td>0</td>\n",
       "      <td>0</td>\n",
       "      <td>0</td>\n",
       "      <td>0</td>\n",
       "      <td>0</td>\n",
       "      <td>0</td>\n",
       "      <td>0</td>\n",
       "      <td>0yrs 0mon</td>\n",
       "      <td>0yrs 0mon</td>\n",
       "      <td>0</td>\n",
       "      <td>0</td>\n",
       "    </tr>\n",
       "    <tr>\n",
       "      <td>1</td>\n",
       "      <td>424443</td>\n",
       "      <td>48739</td>\n",
       "      <td>62290</td>\n",
       "      <td>80.65</td>\n",
       "      <td>69</td>\n",
       "      <td>16611</td>\n",
       "      <td>45</td>\n",
       "      <td>4083</td>\n",
       "      <td>13-03-86</td>\n",
       "      <td>Salaried</td>\n",
       "      <td>06-08-18</td>\n",
       "      <td>8</td>\n",
       "      <td>2072</td>\n",
       "      <td>1</td>\n",
       "      <td>1</td>\n",
       "      <td>0</td>\n",
       "      <td>0</td>\n",
       "      <td>0</td>\n",
       "      <td>0</td>\n",
       "      <td>686</td>\n",
       "      <td>E-Low Risk</td>\n",
       "      <td>5</td>\n",
       "      <td>2</td>\n",
       "      <td>0</td>\n",
       "      <td>0</td>\n",
       "      <td>96000</td>\n",
       "      <td>96000</td>\n",
       "      <td>0</td>\n",
       "      <td>0</td>\n",
       "      <td>0</td>\n",
       "      <td>0</td>\n",
       "      <td>0</td>\n",
       "      <td>0</td>\n",
       "      <td>0</td>\n",
       "      <td>0</td>\n",
       "      <td>0</td>\n",
       "      <td>1</td>\n",
       "      <td>2yrs 5mon</td>\n",
       "      <td>4yrs 0mon</td>\n",
       "      <td>0</td>\n",
       "      <td>0</td>\n",
       "    </tr>\n",
       "    <tr>\n",
       "      <td>2</td>\n",
       "      <td>462742</td>\n",
       "      <td>61947</td>\n",
       "      <td>110132</td>\n",
       "      <td>58.11</td>\n",
       "      <td>36</td>\n",
       "      <td>16010</td>\n",
       "      <td>120</td>\n",
       "      <td>6607</td>\n",
       "      <td>01-01-88</td>\n",
       "      <td>Salaried</td>\n",
       "      <td>24-08-18</td>\n",
       "      <td>13</td>\n",
       "      <td>145</td>\n",
       "      <td>1</td>\n",
       "      <td>0</td>\n",
       "      <td>1</td>\n",
       "      <td>1</td>\n",
       "      <td>0</td>\n",
       "      <td>0</td>\n",
       "      <td>0</td>\n",
       "      <td>No Bureau History Available</td>\n",
       "      <td>0</td>\n",
       "      <td>0</td>\n",
       "      <td>0</td>\n",
       "      <td>0</td>\n",
       "      <td>0</td>\n",
       "      <td>0</td>\n",
       "      <td>0</td>\n",
       "      <td>0</td>\n",
       "      <td>0</td>\n",
       "      <td>0</td>\n",
       "      <td>0</td>\n",
       "      <td>0</td>\n",
       "      <td>0</td>\n",
       "      <td>0</td>\n",
       "      <td>0</td>\n",
       "      <td>0</td>\n",
       "      <td>0yrs 0mon</td>\n",
       "      <td>0yrs 0mon</td>\n",
       "      <td>0</td>\n",
       "      <td>0</td>\n",
       "    </tr>\n",
       "    <tr>\n",
       "      <td>3</td>\n",
       "      <td>510354</td>\n",
       "      <td>55259</td>\n",
       "      <td>71567</td>\n",
       "      <td>79.65</td>\n",
       "      <td>9</td>\n",
       "      <td>18062</td>\n",
       "      <td>86</td>\n",
       "      <td>5422</td>\n",
       "      <td>10-01-72</td>\n",
       "      <td>Self employed</td>\n",
       "      <td>16-09-18</td>\n",
       "      <td>3</td>\n",
       "      <td>943</td>\n",
       "      <td>1</td>\n",
       "      <td>1</td>\n",
       "      <td>0</td>\n",
       "      <td>0</td>\n",
       "      <td>0</td>\n",
       "      <td>0</td>\n",
       "      <td>738</td>\n",
       "      <td>C-Very Low Risk</td>\n",
       "      <td>4</td>\n",
       "      <td>2</td>\n",
       "      <td>0</td>\n",
       "      <td>28544</td>\n",
       "      <td>51835</td>\n",
       "      <td>51835</td>\n",
       "      <td>0</td>\n",
       "      <td>0</td>\n",
       "      <td>0</td>\n",
       "      <td>0</td>\n",
       "      <td>0</td>\n",
       "      <td>0</td>\n",
       "      <td>4227</td>\n",
       "      <td>0</td>\n",
       "      <td>1</td>\n",
       "      <td>0</td>\n",
       "      <td>0yrs 7mon</td>\n",
       "      <td>1yrs 1mon</td>\n",
       "      <td>0</td>\n",
       "      <td>0</td>\n",
       "    </tr>\n",
       "    <tr>\n",
       "      <td>4</td>\n",
       "      <td>507144</td>\n",
       "      <td>57013</td>\n",
       "      <td>98130</td>\n",
       "      <td>60.12</td>\n",
       "      <td>1</td>\n",
       "      <td>13890</td>\n",
       "      <td>86</td>\n",
       "      <td>4996</td>\n",
       "      <td>10-06-95</td>\n",
       "      <td>Salaried</td>\n",
       "      <td>14-09-18</td>\n",
       "      <td>3</td>\n",
       "      <td>601</td>\n",
       "      <td>1</td>\n",
       "      <td>0</td>\n",
       "      <td>0</td>\n",
       "      <td>1</td>\n",
       "      <td>0</td>\n",
       "      <td>0</td>\n",
       "      <td>825</td>\n",
       "      <td>A-Very Low Risk</td>\n",
       "      <td>1</td>\n",
       "      <td>0</td>\n",
       "      <td>0</td>\n",
       "      <td>0</td>\n",
       "      <td>0</td>\n",
       "      <td>0</td>\n",
       "      <td>0</td>\n",
       "      <td>0</td>\n",
       "      <td>0</td>\n",
       "      <td>0</td>\n",
       "      <td>0</td>\n",
       "      <td>0</td>\n",
       "      <td>1522</td>\n",
       "      <td>0</td>\n",
       "      <td>0</td>\n",
       "      <td>0</td>\n",
       "      <td>0yrs 6mon</td>\n",
       "      <td>0yrs 6mon</td>\n",
       "      <td>0</td>\n",
       "      <td>0</td>\n",
       "    </tr>\n",
       "  </tbody>\n",
       "</table>\n",
       "</div>"
      ],
      "text/plain": [
       "   UniqueID  disbursed_amount  asset_cost    ltv  branch_id  supplier_id  \\\n",
       "0    616512             35089       71100  50.98         29        22746   \n",
       "1    424443             48739       62290  80.65         69        16611   \n",
       "2    462742             61947      110132  58.11         36        16010   \n",
       "3    510354             55259       71567  79.65          9        18062   \n",
       "4    507144             57013       98130  60.12          1        13890   \n",
       "\n",
       "   manufacturer_id  Current_pincode_ID Date_of_Birth Employment_Type  \\\n",
       "0               86                5898      01-02-90   Self employed   \n",
       "1               45                4083      13-03-86        Salaried   \n",
       "2              120                6607      01-01-88        Salaried   \n",
       "3               86                5422      10-01-72   Self employed   \n",
       "4               86                4996      10-06-95        Salaried   \n",
       "\n",
       "  DisbursalDate  State_ID  Employee_code_ID  MobileNo_Avl_Flag  Aadhar_flag  \\\n",
       "0      25-10-18         3              1622                  1            1   \n",
       "1      06-08-18         8              2072                  1            1   \n",
       "2      24-08-18        13               145                  1            0   \n",
       "3      16-09-18         3               943                  1            1   \n",
       "4      14-09-18         3               601                  1            0   \n",
       "\n",
       "   PAN_flag  VoterID_flag  Driving_flag  Passport_flag  PERFORM_CNS_SCORE  \\\n",
       "0         0             0             0              0                  0   \n",
       "1         0             0             0              0                686   \n",
       "2         1             1             0              0                  0   \n",
       "3         0             0             0              0                738   \n",
       "4         0             1             0              0                825   \n",
       "\n",
       "  PERFORM_CNS_SCORE_DESCRIPTION  PRI_NO_OF_ACCTS  PRI_ACTIVE_ACCTS  \\\n",
       "0   No Bureau History Available                0                 0   \n",
       "1                    E-Low Risk                5                 2   \n",
       "2   No Bureau History Available                0                 0   \n",
       "3               C-Very Low Risk                4                 2   \n",
       "4               A-Very Low Risk                1                 0   \n",
       "\n",
       "   PRI_OVERDUE_ACCTS  PRI_CURRENT_BALANCE  PRI_SANCTIONED_AMOUNT  \\\n",
       "0                  0                    0                      0   \n",
       "1                  0                    0                  96000   \n",
       "2                  0                    0                      0   \n",
       "3                  0                28544                  51835   \n",
       "4                  0                    0                      0   \n",
       "\n",
       "   PRI_DISBURSED_AMOUNT  SEC_NO_OF_ACCTS  SEC_ACTIVE_ACCTS  SEC_OVERDUE_ACCTS  \\\n",
       "0                     0                0                 0                  0   \n",
       "1                 96000                0                 0                  0   \n",
       "2                     0                0                 0                  0   \n",
       "3                 51835                0                 0                  0   \n",
       "4                     0                0                 0                  0   \n",
       "\n",
       "   SEC_CURRENT_BALANCE  SEC_SANCTIONED_AMOUNT  SEC_DISBURSED_AMOUNT  \\\n",
       "0                    0                      0                     0   \n",
       "1                    0                      0                     0   \n",
       "2                    0                      0                     0   \n",
       "3                    0                      0                     0   \n",
       "4                    0                      0                     0   \n",
       "\n",
       "   PRIMARY_INSTAL_AMT  SEC_INSTAL_AMT  NEW_ACCTS_IN_LAST_SIX_MONTHS  \\\n",
       "0                   0               0                             0   \n",
       "1                   0               0                             0   \n",
       "2                   0               0                             0   \n",
       "3                4227               0                             1   \n",
       "4                1522               0                             0   \n",
       "\n",
       "   DELINQUENT_ACCTS_IN_LAST_SIX_MONTHS AVERAGE_ACCT_AGE CREDIT_HISTORY_LENGTH  \\\n",
       "0                                    0        0yrs 0mon             0yrs 0mon   \n",
       "1                                    1        2yrs 5mon             4yrs 0mon   \n",
       "2                                    0        0yrs 0mon             0yrs 0mon   \n",
       "3                                    0        0yrs 7mon             1yrs 1mon   \n",
       "4                                    0        0yrs 6mon             0yrs 6mon   \n",
       "\n",
       "   NO_OF_INQUIRIES  loan_default  \n",
       "0                0             0  \n",
       "1                0             0  \n",
       "2                0             0  \n",
       "3                0             0  \n",
       "4                0             0  "
      ]
     },
     "execution_count": 62,
     "metadata": {},
     "output_type": "execute_result"
    }
   ],
   "source": [
    "final_df.head()"
   ]
  },
  {
   "cell_type": "code",
   "execution_count": 63,
   "metadata": {},
   "outputs": [
    {
     "data": {
      "text/plain": [
       "[Text(0.5, 1.0, 'Balanced Dataset')]"
      ]
     },
     "execution_count": 63,
     "metadata": {},
     "output_type": "execute_result"
    },
    {
     "data": {
      "image/png": "[encoded data removed]",
      "text/plain": [
       "<Figure size 432x288 with 1 Axes>"
      ]
     },
     "metadata": {
      "needs_background": "light"
     },
     "output_type": "display_data"
    }
   ],
   "source": [
    "sns.countplot(x='loan_default',data=final_df).set(title='Balanced Dataset')"
   ]
  },
  {
   "cell_type": "markdown",
   "metadata": {},
   "source": [
    "## Exploratory Data Analysis"
   ]
  },
  {
   "cell_type": "code",
   "execution_count": 64,
   "metadata": {},
   "outputs": [
    {
     "data": {
      "text/html": [
       "<div>\n",
       "<style scoped>\n",
       "    .dataframe tbody tr th:only-of-type {\n",
       "        vertical-align: middle;\n",
       "    }\n",
       "\n",
       "    .dataframe tbody tr th {\n",
       "        vertical-align: top;\n",
       "    }\n",
       "\n",
       "    .dataframe thead th {\n",
       "        text-align: right;\n",
       "    }\n",
       "</style>\n",
       "<table border=\"1\" class=\"dataframe\">\n",
       "  <thead>\n",
       "    <tr style=\"text-align: right;\">\n",
       "      <th></th>\n",
       "      <th>UniqueID</th>\n",
       "      <th>disbursed_amount</th>\n",
       "      <th>asset_cost</th>\n",
       "      <th>ltv</th>\n",
       "      <th>branch_id</th>\n",
       "      <th>supplier_id</th>\n",
       "      <th>manufacturer_id</th>\n",
       "      <th>Current_pincode_ID</th>\n",
       "      <th>Date_of_Birth</th>\n",
       "      <th>Employment_Type</th>\n",
       "      <th>DisbursalDate</th>\n",
       "      <th>State_ID</th>\n",
       "      <th>Employee_code_ID</th>\n",
       "      <th>MobileNo_Avl_Flag</th>\n",
       "      <th>Aadhar_flag</th>\n",
       "      <th>PAN_flag</th>\n",
       "      <th>VoterID_flag</th>\n",
       "      <th>Driving_flag</th>\n",
       "      <th>Passport_flag</th>\n",
       "      <th>PERFORM_CNS_SCORE</th>\n",
       "      <th>PERFORM_CNS_SCORE_DESCRIPTION</th>\n",
       "      <th>PRI_NO_OF_ACCTS</th>\n",
       "      <th>PRI_ACTIVE_ACCTS</th>\n",
       "      <th>PRI_OVERDUE_ACCTS</th>\n",
       "      <th>PRI_CURRENT_BALANCE</th>\n",
       "      <th>PRI_SANCTIONED_AMOUNT</th>\n",
       "      <th>PRI_DISBURSED_AMOUNT</th>\n",
       "      <th>SEC_NO_OF_ACCTS</th>\n",
       "      <th>SEC_ACTIVE_ACCTS</th>\n",
       "      <th>SEC_OVERDUE_ACCTS</th>\n",
       "      <th>SEC_CURRENT_BALANCE</th>\n",
       "      <th>SEC_SANCTIONED_AMOUNT</th>\n",
       "      <th>SEC_DISBURSED_AMOUNT</th>\n",
       "      <th>PRIMARY_INSTAL_AMT</th>\n",
       "      <th>SEC_INSTAL_AMT</th>\n",
       "      <th>NEW_ACCTS_IN_LAST_SIX_MONTHS</th>\n",
       "      <th>DELINQUENT_ACCTS_IN_LAST_SIX_MONTHS</th>\n",
       "      <th>AVERAGE_ACCT_AGE</th>\n",
       "      <th>CREDIT_HISTORY_LENGTH</th>\n",
       "      <th>NO_OF_INQUIRIES</th>\n",
       "      <th>loan_default</th>\n",
       "    </tr>\n",
       "  </thead>\n",
       "  <tbody>\n",
       "    <tr>\n",
       "      <td>0</td>\n",
       "      <td>616512</td>\n",
       "      <td>35089</td>\n",
       "      <td>71100</td>\n",
       "      <td>50.98</td>\n",
       "      <td>29</td>\n",
       "      <td>22746</td>\n",
       "      <td>86</td>\n",
       "      <td>5898</td>\n",
       "      <td>01-02-90</td>\n",
       "      <td>Self employed</td>\n",
       "      <td>25-10-18</td>\n",
       "      <td>3</td>\n",
       "      <td>1622</td>\n",
       "      <td>1</td>\n",
       "      <td>1</td>\n",
       "      <td>0</td>\n",
       "      <td>0</td>\n",
       "      <td>0</td>\n",
       "      <td>0</td>\n",
       "      <td>0</td>\n",
       "      <td>No Bureau History Available</td>\n",
       "      <td>0</td>\n",
       "      <td>0</td>\n",
       "      <td>0</td>\n",
       "      <td>0</td>\n",
       "      <td>0</td>\n",
       "      <td>0</td>\n",
       "      <td>0</td>\n",
       "      <td>0</td>\n",
       "      <td>0</td>\n",
       "      <td>0</td>\n",
       "      <td>0</td>\n",
       "      <td>0</td>\n",
       "      <td>0</td>\n",
       "      <td>0</td>\n",
       "      <td>0</td>\n",
       "      <td>0</td>\n",
       "      <td>0yrs 0mon</td>\n",
       "      <td>0yrs 0mon</td>\n",
       "      <td>0</td>\n",
       "      <td>0</td>\n",
       "    </tr>\n",
       "    <tr>\n",
       "      <td>1</td>\n",
       "      <td>424443</td>\n",
       "      <td>48739</td>\n",
       "      <td>62290</td>\n",
       "      <td>80.65</td>\n",
       "      <td>69</td>\n",
       "      <td>16611</td>\n",
       "      <td>45</td>\n",
       "      <td>4083</td>\n",
       "      <td>13-03-86</td>\n",
       "      <td>Salaried</td>\n",
       "      <td>06-08-18</td>\n",
       "      <td>8</td>\n",
       "      <td>2072</td>\n",
       "      <td>1</td>\n",
       "      <td>1</td>\n",
       "      <td>0</td>\n",
       "      <td>0</td>\n",
       "      <td>0</td>\n",
       "      <td>0</td>\n",
       "      <td>686</td>\n",
       "      <td>E-Low Risk</td>\n",
       "      <td>5</td>\n",
       "      <td>2</td>\n",
       "      <td>0</td>\n",
       "      <td>0</td>\n",
       "      <td>96000</td>\n",
       "      <td>96000</td>\n",
       "      <td>0</td>\n",
       "      <td>0</td>\n",
       "      <td>0</td>\n",
       "      <td>0</td>\n",
       "      <td>0</td>\n",
       "      <td>0</td>\n",
       "      <td>0</td>\n",
       "      <td>0</td>\n",
       "      <td>0</td>\n",
       "      <td>1</td>\n",
       "      <td>2yrs 5mon</td>\n",
       "      <td>4yrs 0mon</td>\n",
       "      <td>0</td>\n",
       "      <td>0</td>\n",
       "    </tr>\n",
       "    <tr>\n",
       "      <td>2</td>\n",
       "      <td>462742</td>\n",
       "      <td>61947</td>\n",
       "      <td>110132</td>\n",
       "      <td>58.11</td>\n",
       "      <td>36</td>\n",
       "      <td>16010</td>\n",
       "      <td>120</td>\n",
       "      <td>6607</td>\n",
       "      <td>01-01-88</td>\n",
       "      <td>Salaried</td>\n",
       "      <td>24-08-18</td>\n",
       "      <td>13</td>\n",
       "      <td>145</td>\n",
       "      <td>1</td>\n",
       "      <td>0</td>\n",
       "      <td>1</td>\n",
       "      <td>1</td>\n",
       "      <td>0</td>\n",
       "      <td>0</td>\n",
       "      <td>0</td>\n",
       "      <td>No Bureau History Available</td>\n",
       "      <td>0</td>\n",
       "      <td>0</td>\n",
       "      <td>0</td>\n",
       "      <td>0</td>\n",
       "      <td>0</td>\n",
       "      <td>0</td>\n",
       "      <td>0</td>\n",
       "      <td>0</td>\n",
       "      <td>0</td>\n",
       "      <td>0</td>\n",
       "      <td>0</td>\n",
       "      <td>0</td>\n",
       "      <td>0</td>\n",
       "      <td>0</td>\n",
       "      <td>0</td>\n",
       "      <td>0</td>\n",
       "      <td>0yrs 0mon</td>\n",
       "      <td>0yrs 0mon</td>\n",
       "      <td>0</td>\n",
       "      <td>0</td>\n",
       "    </tr>\n",
       "    <tr>\n",
       "      <td>3</td>\n",
       "      <td>510354</td>\n",
       "      <td>55259</td>\n",
       "      <td>71567</td>\n",
       "      <td>79.65</td>\n",
       "      <td>9</td>\n",
       "      <td>18062</td>\n",
       "      <td>86</td>\n",
       "      <td>5422</td>\n",
       "      <td>10-01-72</td>\n",
       "      <td>Self employed</td>\n",
       "      <td>16-09-18</td>\n",
       "      <td>3</td>\n",
       "      <td>943</td>\n",
       "      <td>1</td>\n",
       "      <td>1</td>\n",
       "      <td>0</td>\n",
       "      <td>0</td>\n",
       "      <td>0</td>\n",
       "      <td>0</td>\n",
       "      <td>738</td>\n",
       "      <td>C-Very Low Risk</td>\n",
       "      <td>4</td>\n",
       "      <td>2</td>\n",
       "      <td>0</td>\n",
       "      <td>28544</td>\n",
       "      <td>51835</td>\n",
       "      <td>51835</td>\n",
       "      <td>0</td>\n",
       "      <td>0</td>\n",
       "      <td>0</td>\n",
       "      <td>0</td>\n",
       "      <td>0</td>\n",
       "      <td>0</td>\n",
       "      <td>4227</td>\n",
       "      <td>0</td>\n",
       "      <td>1</td>\n",
       "      <td>0</td>\n",
       "      <td>0yrs 7mon</td>\n",
       "      <td>1yrs 1mon</td>\n",
       "      <td>0</td>\n",
       "      <td>0</td>\n",
       "    </tr>\n",
       "    <tr>\n",
       "      <td>4</td>\n",
       "      <td>507144</td>\n",
       "      <td>57013</td>\n",
       "      <td>98130</td>\n",
       "      <td>60.12</td>\n",
       "      <td>1</td>\n",
       "      <td>13890</td>\n",
       "      <td>86</td>\n",
       "      <td>4996</td>\n",
       "      <td>10-06-95</td>\n",
       "      <td>Salaried</td>\n",
       "      <td>14-09-18</td>\n",
       "      <td>3</td>\n",
       "      <td>601</td>\n",
       "      <td>1</td>\n",
       "      <td>0</td>\n",
       "      <td>0</td>\n",
       "      <td>1</td>\n",
       "      <td>0</td>\n",
       "      <td>0</td>\n",
       "      <td>825</td>\n",
       "      <td>A-Very Low Risk</td>\n",
       "      <td>1</td>\n",
       "      <td>0</td>\n",
       "      <td>0</td>\n",
       "      <td>0</td>\n",
       "      <td>0</td>\n",
       "      <td>0</td>\n",
       "      <td>0</td>\n",
       "      <td>0</td>\n",
       "      <td>0</td>\n",
       "      <td>0</td>\n",
       "      <td>0</td>\n",
       "      <td>0</td>\n",
       "      <td>1522</td>\n",
       "      <td>0</td>\n",
       "      <td>0</td>\n",
       "      <td>0</td>\n",
       "      <td>0yrs 6mon</td>\n",
       "      <td>0yrs 6mon</td>\n",
       "      <td>0</td>\n",
       "      <td>0</td>\n",
       "    </tr>\n",
       "  </tbody>\n",
       "</table>\n",
       "</div>"
      ],
      "text/plain": [
       "   UniqueID  disbursed_amount  asset_cost    ltv  branch_id  supplier_id  \\\n",
       "0    616512             35089       71100  50.98         29        22746   \n",
       "1    424443             48739       62290  80.65         69        16611   \n",
       "2    462742             61947      110132  58.11         36        16010   \n",
       "3    510354             55259       71567  79.65          9        18062   \n",
       "4    507144             57013       98130  60.12          1        13890   \n",
       "\n",
       "   manufacturer_id  Current_pincode_ID Date_of_Birth Employment_Type  \\\n",
       "0               86                5898      01-02-90   Self employed   \n",
       "1               45                4083      13-03-86        Salaried   \n",
       "2              120                6607      01-01-88        Salaried   \n",
       "3               86                5422      10-01-72   Self employed   \n",
       "4               86                4996      10-06-95        Salaried   \n",
       "\n",
       "  DisbursalDate  State_ID  Employee_code_ID  MobileNo_Avl_Flag  Aadhar_flag  \\\n",
       "0      25-10-18         3              1622                  1            1   \n",
       "1      06-08-18         8              2072                  1            1   \n",
       "2      24-08-18        13               145                  1            0   \n",
       "3      16-09-18         3               943                  1            1   \n",
       "4      14-09-18         3               601                  1            0   \n",
       "\n",
       "   PAN_flag  VoterID_flag  Driving_flag  Passport_flag  PERFORM_CNS_SCORE  \\\n",
       "0         0             0             0              0                  0   \n",
       "1         0             0             0              0                686   \n",
       "2         1             1             0              0                  0   \n",
       "3         0             0             0              0                738   \n",
       "4         0             1             0              0                825   \n",
       "\n",
       "  PERFORM_CNS_SCORE_DESCRIPTION  PRI_NO_OF_ACCTS  PRI_ACTIVE_ACCTS  \\\n",
       "0   No Bureau History Available                0                 0   \n",
       "1                    E-Low Risk                5                 2   \n",
       "2   No Bureau History Available                0                 0   \n",
       "3               C-Very Low Risk                4                 2   \n",
       "4               A-Very Low Risk                1                 0   \n",
       "\n",
       "   PRI_OVERDUE_ACCTS  PRI_CURRENT_BALANCE  PRI_SANCTIONED_AMOUNT  \\\n",
       "0                  0                    0                      0   \n",
       "1                  0                    0                  96000   \n",
       "2                  0                    0                      0   \n",
       "3                  0                28544                  51835   \n",
       "4                  0                    0                      0   \n",
       "\n",
       "   PRI_DISBURSED_AMOUNT  SEC_NO_OF_ACCTS  SEC_ACTIVE_ACCTS  SEC_OVERDUE_ACCTS  \\\n",
       "0                     0                0                 0                  0   \n",
       "1                 96000                0                 0                  0   \n",
       "2                     0                0                 0                  0   \n",
       "3                 51835                0                 0                  0   \n",
       "4                     0                0                 0                  0   \n",
       "\n",
       "   SEC_CURRENT_BALANCE  SEC_SANCTIONED_AMOUNT  SEC_DISBURSED_AMOUNT  \\\n",
       "0                    0                      0                     0   \n",
       "1                    0                      0                     0   \n",
       "2                    0                      0                     0   \n",
       "3                    0                      0                     0   \n",
       "4                    0                      0                     0   \n",
       "\n",
       "   PRIMARY_INSTAL_AMT  SEC_INSTAL_AMT  NEW_ACCTS_IN_LAST_SIX_MONTHS  \\\n",
       "0                   0               0                             0   \n",
       "1                   0               0                             0   \n",
       "2                   0               0                             0   \n",
       "3                4227               0                             1   \n",
       "4                1522               0                             0   \n",
       "\n",
       "   DELINQUENT_ACCTS_IN_LAST_SIX_MONTHS AVERAGE_ACCT_AGE CREDIT_HISTORY_LENGTH  \\\n",
       "0                                    0        0yrs 0mon             0yrs 0mon   \n",
       "1                                    1        2yrs 5mon             4yrs 0mon   \n",
       "2                                    0        0yrs 0mon             0yrs 0mon   \n",
       "3                                    0        0yrs 7mon             1yrs 1mon   \n",
       "4                                    0        0yrs 6mon             0yrs 6mon   \n",
       "\n",
       "   NO_OF_INQUIRIES  loan_default  \n",
       "0                0             0  \n",
       "1                0             0  \n",
       "2                0             0  \n",
       "3                0             0  \n",
       "4                0             0  "
      ]
     },
     "execution_count": 64,
     "metadata": {},
     "output_type": "execute_result"
    }
   ],
   "source": [
    "final_df.head()"
   ]
  },
  {
   "cell_type": "code",
   "execution_count": 65,
   "metadata": {},
   "outputs": [
    {
     "data": {
      "text/plain": [
       "Text(0.5, 1.0, 'Loan_Default count between salaried and self employed')"
      ]
     },
     "execution_count": 65,
     "metadata": {},
     "output_type": "execute_result"
    },
    {
     "data": {
      "image/png": "[encoded data removed]",
      "text/plain": [
       "<Figure size 720x576 with 1 Axes>"
      ]
     },
     "metadata": {
      "needs_background": "light"
     },
     "output_type": "display_data"
    }
   ],
   "source": [
    "fig = plt.figure(figsize=(10,8))\n",
    "sns.countplot(x='Employment_Type',hue='loan_default', data=final_df)\n",
    "plt.title('Loan_Default count between salaried and self employed')"
   ]
  },
  {
   "cell_type": "markdown",
   "metadata": {},
   "source": [
    "## Data Preprocessing"
   ]
  },
  {
   "cell_type": "code",
   "execution_count": 66,
   "metadata": {},
   "outputs": [],
   "source": [
    "df_cont = pd.DataFrame()"
   ]
  },
  {
   "cell_type": "code",
   "execution_count": 67,
   "metadata": {},
   "outputs": [],
   "source": [
    "df_cont['disbursed_amount'] = final_df['disbursed_amount']\n",
    "df_cont['asset_cost'] = final_df['asset_cost']\n",
    "df_cont['ltv'] = final_df['ltv']"
   ]
  },
  {
   "cell_type": "code",
   "execution_count": 68,
   "metadata": {},
   "outputs": [
    {
     "data": {
      "text/html": [
       "<div>\n",
       "<style scoped>\n",
       "    .dataframe tbody tr th:only-of-type {\n",
       "        vertical-align: middle;\n",
       "    }\n",
       "\n",
       "    .dataframe tbody tr th {\n",
       "        vertical-align: top;\n",
       "    }\n",
       "\n",
       "    .dataframe thead th {\n",
       "        text-align: right;\n",
       "    }\n",
       "</style>\n",
       "<table border=\"1\" class=\"dataframe\">\n",
       "  <thead>\n",
       "    <tr style=\"text-align: right;\">\n",
       "      <th></th>\n",
       "      <th>disbursed_amount</th>\n",
       "      <th>asset_cost</th>\n",
       "      <th>ltv</th>\n",
       "    </tr>\n",
       "  </thead>\n",
       "  <tbody>\n",
       "    <tr>\n",
       "      <td>0</td>\n",
       "      <td>35089</td>\n",
       "      <td>71100</td>\n",
       "      <td>50.98</td>\n",
       "    </tr>\n",
       "    <tr>\n",
       "      <td>1</td>\n",
       "      <td>48739</td>\n",
       "      <td>62290</td>\n",
       "      <td>80.65</td>\n",
       "    </tr>\n",
       "    <tr>\n",
       "      <td>2</td>\n",
       "      <td>61947</td>\n",
       "      <td>110132</td>\n",
       "      <td>58.11</td>\n",
       "    </tr>\n",
       "    <tr>\n",
       "      <td>3</td>\n",
       "      <td>55259</td>\n",
       "      <td>71567</td>\n",
       "      <td>79.65</td>\n",
       "    </tr>\n",
       "    <tr>\n",
       "      <td>4</td>\n",
       "      <td>57013</td>\n",
       "      <td>98130</td>\n",
       "      <td>60.12</td>\n",
       "    </tr>\n",
       "  </tbody>\n",
       "</table>\n",
       "</div>"
      ],
      "text/plain": [
       "   disbursed_amount  asset_cost    ltv\n",
       "0             35089       71100  50.98\n",
       "1             48739       62290  80.65\n",
       "2             61947      110132  58.11\n",
       "3             55259       71567  79.65\n",
       "4             57013       98130  60.12"
      ]
     },
     "execution_count": 68,
     "metadata": {},
     "output_type": "execute_result"
    }
   ],
   "source": [
    "df_cont.head()"
   ]
  },
  {
   "cell_type": "code",
   "execution_count": 69,
   "metadata": {},
   "outputs": [
    {
     "data": {
      "text/plain": [
       "Self employed    61852\n",
       "Salaried         45775\n",
       "Name: Employment_Type, dtype: int64"
      ]
     },
     "execution_count": 69,
     "metadata": {},
     "output_type": "execute_result"
    }
   ],
   "source": [
    "final_df.Employment_Type.value_counts()"
   ]
  },
  {
   "cell_type": "code",
   "execution_count": 70,
   "metadata": {},
   "outputs": [],
   "source": [
    "df_cont['Employment_Type'] = final_df['Employment_Type']"
   ]
  },
  {
   "cell_type": "markdown",
   "metadata": {},
   "source": [
    "## Change the salary type into 0 and 1 as a categorical variable using Ordinal encoder"
   ]
  },
  {
   "cell_type": "code",
   "execution_count": 71,
   "metadata": {},
   "outputs": [],
   "source": [
    "from sklearn.preprocessing import OrdinalEncoder"
   ]
  },
  {
   "cell_type": "code",
   "execution_count": 72,
   "metadata": {},
   "outputs": [],
   "source": [
    "oe = OrdinalEncoder()\n",
    "tmp_employment_type = df_cont['Employment_Type']\n",
    "nonull = np.array(df_cont['Employment_Type'].dropna())"
   ]
  },
  {
   "cell_type": "code",
   "execution_count": 73,
   "metadata": {},
   "outputs": [],
   "source": [
    "encoded_values = oe.fit_transform(nonull.reshape(-1,1))"
   ]
  },
  {
   "cell_type": "code",
   "execution_count": 74,
   "metadata": {},
   "outputs": [],
   "source": [
    "tmp_employment_type[tmp_employment_type.notnull()] = np.squeeze(encoded_values)"
   ]
  },
  {
   "cell_type": "code",
   "execution_count": 75,
   "metadata": {},
   "outputs": [],
   "source": [
    "df_cont['Employment_Type'] = tmp_employment_type"
   ]
  },
  {
   "cell_type": "code",
   "execution_count": 76,
   "metadata": {},
   "outputs": [
    {
     "data": {
      "text/plain": [
       "1.0    61852\n",
       "0.0    45775\n",
       "Name: Employment_Type, dtype: int64"
      ]
     },
     "execution_count": 76,
     "metadata": {},
     "output_type": "execute_result"
    }
   ],
   "source": [
    "df_cont.Employment_Type.value_counts()"
   ]
  },
  {
   "cell_type": "code",
   "execution_count": 77,
   "metadata": {},
   "outputs": [
    {
     "data": {
      "text/plain": [
       "3595"
      ]
     },
     "execution_count": 77,
     "metadata": {},
     "output_type": "execute_result"
    }
   ],
   "source": [
    "df_cont.Employment_Type.isnull().sum()"
   ]
  },
  {
   "cell_type": "code",
   "execution_count": 78,
   "metadata": {},
   "outputs": [],
   "source": [
    "tmpdf = pd.DataFrame(final_df.iloc[:,[13,14,15,16,17,18,19,21,22,23,24,25,26,27,28,29,30,31,32,33,34,35,36,39,40]])"
   ]
  },
  {
   "cell_type": "code",
   "execution_count": 79,
   "metadata": {},
   "outputs": [],
   "source": [
    "df_cont = pd.concat([df_cont,tmpdf],sort=False,axis=1)"
   ]
  },
  {
   "cell_type": "code",
   "execution_count": 80,
   "metadata": {},
   "outputs": [
    {
     "data": {
      "text/plain": [
       "disbursed_amount                          0\n",
       "asset_cost                                0\n",
       "ltv                                       0\n",
       "Employment_Type                        3595\n",
       "MobileNo_Avl_Flag                         0\n",
       "Aadhar_flag                               0\n",
       "PAN_flag                                  0\n",
       "VoterID_flag                              0\n",
       "Driving_flag                              0\n",
       "Passport_flag                             0\n",
       "PERFORM_CNS_SCORE                         0\n",
       "PRI_NO_OF_ACCTS                           0\n",
       "PRI_ACTIVE_ACCTS                          0\n",
       "PRI_OVERDUE_ACCTS                         0\n",
       "PRI_CURRENT_BALANCE                       0\n",
       "PRI_SANCTIONED_AMOUNT                     0\n",
       "PRI_DISBURSED_AMOUNT                      0\n",
       "SEC_NO_OF_ACCTS                           0\n",
       "SEC_ACTIVE_ACCTS                          0\n",
       "SEC_OVERDUE_ACCTS                         0\n",
       "SEC_CURRENT_BALANCE                       0\n",
       "SEC_SANCTIONED_AMOUNT                     0\n",
       "SEC_DISBURSED_AMOUNT                      0\n",
       "PRIMARY_INSTAL_AMT                        0\n",
       "SEC_INSTAL_AMT                            0\n",
       "NEW_ACCTS_IN_LAST_SIX_MONTHS              0\n",
       "DELINQUENT_ACCTS_IN_LAST_SIX_MONTHS       0\n",
       "NO_OF_INQUIRIES                           0\n",
       "loan_default                              0\n",
       "dtype: int64"
      ]
     },
     "execution_count": 80,
     "metadata": {},
     "output_type": "execute_result"
    }
   ],
   "source": [
    "df_cont.isnull().sum()"
   ]
  },
  {
   "cell_type": "code",
   "execution_count": 81,
   "metadata": {},
   "outputs": [],
   "source": [
    "tmpcolumns = list(df_cont.columns)"
   ]
  },
  {
   "cell_type": "code",
   "execution_count": 82,
   "metadata": {},
   "outputs": [],
   "source": [
    "#from fancyimpute import IterativeImputer as MICE\n",
    "from sklearn.impute import KNNImputer"
   ]
  },
  {
   "cell_type": "markdown",
   "metadata": {},
   "source": [
    "## Need to round of the values. By defalut KNN Imputer will give float variables. As Our Category contains 0's and 1's We have to round up the imputed values"
   ]
  },
  {
   "cell_type": "code",
   "execution_count": 83,
   "metadata": {},
   "outputs": [],
   "source": [
    "#df_cont = pd.DataFrame(MICE().fit_transform(df_cont.astype(str)),columns=tmpcolumns)\n",
    "imputer = KNNImputer(n_neighbors=5)\n",
    "df_cont = pd.DataFrame(np.round(imputer.fit_transform(df_cont)),columns=tmpcolumns)"
   ]
  },
  {
   "cell_type": "code",
   "execution_count": 84,
   "metadata": {},
   "outputs": [
    {
     "data": {
      "text/plain": [
       "1.0    64166\n",
       "0.0    47056\n",
       "Name: Employment_Type, dtype: int64"
      ]
     },
     "execution_count": 84,
     "metadata": {},
     "output_type": "execute_result"
    }
   ],
   "source": [
    "df_cont.Employment_Type.value_counts()"
   ]
  },
  {
   "cell_type": "code",
   "execution_count": 85,
   "metadata": {},
   "outputs": [],
   "source": [
    "X = df_cont.drop(['loan_default'],axis=1)"
   ]
  },
  {
   "cell_type": "code",
   "execution_count": 86,
   "metadata": {},
   "outputs": [],
   "source": [
    "y= df_cont['loan_default']"
   ]
  },
  {
   "cell_type": "code",
   "execution_count": 87,
   "metadata": {},
   "outputs": [
    {
     "data": {
      "text/plain": [
       "(111222, 111222)"
      ]
     },
     "execution_count": 87,
     "metadata": {},
     "output_type": "execute_result"
    }
   ],
   "source": [
    "len(X),len(y)"
   ]
  },
  {
   "cell_type": "code",
   "execution_count": 88,
   "metadata": {},
   "outputs": [
    {
     "data": {
      "text/html": [
       "<div>\n",
       "<style scoped>\n",
       "    .dataframe tbody tr th:only-of-type {\n",
       "        vertical-align: middle;\n",
       "    }\n",
       "\n",
       "    .dataframe tbody tr th {\n",
       "        vertical-align: top;\n",
       "    }\n",
       "\n",
       "    .dataframe thead th {\n",
       "        text-align: right;\n",
       "    }\n",
       "</style>\n",
       "<table border=\"1\" class=\"dataframe\">\n",
       "  <thead>\n",
       "    <tr style=\"text-align: right;\">\n",
       "      <th></th>\n",
       "      <th>disbursed_amount</th>\n",
       "      <th>asset_cost</th>\n",
       "      <th>ltv</th>\n",
       "      <th>Employment_Type</th>\n",
       "      <th>MobileNo_Avl_Flag</th>\n",
       "      <th>Aadhar_flag</th>\n",
       "      <th>PAN_flag</th>\n",
       "      <th>VoterID_flag</th>\n",
       "      <th>Driving_flag</th>\n",
       "      <th>Passport_flag</th>\n",
       "      <th>PERFORM_CNS_SCORE</th>\n",
       "      <th>PRI_NO_OF_ACCTS</th>\n",
       "      <th>PRI_ACTIVE_ACCTS</th>\n",
       "      <th>PRI_OVERDUE_ACCTS</th>\n",
       "      <th>PRI_CURRENT_BALANCE</th>\n",
       "      <th>PRI_SANCTIONED_AMOUNT</th>\n",
       "      <th>PRI_DISBURSED_AMOUNT</th>\n",
       "      <th>SEC_NO_OF_ACCTS</th>\n",
       "      <th>SEC_ACTIVE_ACCTS</th>\n",
       "      <th>SEC_OVERDUE_ACCTS</th>\n",
       "      <th>SEC_CURRENT_BALANCE</th>\n",
       "      <th>SEC_SANCTIONED_AMOUNT</th>\n",
       "      <th>SEC_DISBURSED_AMOUNT</th>\n",
       "      <th>PRIMARY_INSTAL_AMT</th>\n",
       "      <th>SEC_INSTAL_AMT</th>\n",
       "      <th>NEW_ACCTS_IN_LAST_SIX_MONTHS</th>\n",
       "      <th>DELINQUENT_ACCTS_IN_LAST_SIX_MONTHS</th>\n",
       "      <th>NO_OF_INQUIRIES</th>\n",
       "    </tr>\n",
       "  </thead>\n",
       "  <tbody>\n",
       "    <tr>\n",
       "      <td>0</td>\n",
       "      <td>35089.0</td>\n",
       "      <td>71100.0</td>\n",
       "      <td>51.0</td>\n",
       "      <td>1.0</td>\n",
       "      <td>1.0</td>\n",
       "      <td>1.0</td>\n",
       "      <td>0.0</td>\n",
       "      <td>0.0</td>\n",
       "      <td>0.0</td>\n",
       "      <td>0.0</td>\n",
       "      <td>0.0</td>\n",
       "      <td>0.0</td>\n",
       "      <td>0.0</td>\n",
       "      <td>0.0</td>\n",
       "      <td>0.0</td>\n",
       "      <td>0.0</td>\n",
       "      <td>0.0</td>\n",
       "      <td>0.0</td>\n",
       "      <td>0.0</td>\n",
       "      <td>0.0</td>\n",
       "      <td>0.0</td>\n",
       "      <td>0.0</td>\n",
       "      <td>0.0</td>\n",
       "      <td>0.0</td>\n",
       "      <td>0.0</td>\n",
       "      <td>0.0</td>\n",
       "      <td>0.0</td>\n",
       "      <td>0.0</td>\n",
       "    </tr>\n",
       "    <tr>\n",
       "      <td>1</td>\n",
       "      <td>48739.0</td>\n",
       "      <td>62290.0</td>\n",
       "      <td>81.0</td>\n",
       "      <td>0.0</td>\n",
       "      <td>1.0</td>\n",
       "      <td>1.0</td>\n",
       "      <td>0.0</td>\n",
       "      <td>0.0</td>\n",
       "      <td>0.0</td>\n",
       "      <td>0.0</td>\n",
       "      <td>686.0</td>\n",
       "      <td>5.0</td>\n",
       "      <td>2.0</td>\n",
       "      <td>0.0</td>\n",
       "      <td>0.0</td>\n",
       "      <td>96000.0</td>\n",
       "      <td>96000.0</td>\n",
       "      <td>0.0</td>\n",
       "      <td>0.0</td>\n",
       "      <td>0.0</td>\n",
       "      <td>0.0</td>\n",
       "      <td>0.0</td>\n",
       "      <td>0.0</td>\n",
       "      <td>0.0</td>\n",
       "      <td>0.0</td>\n",
       "      <td>0.0</td>\n",
       "      <td>1.0</td>\n",
       "      <td>0.0</td>\n",
       "    </tr>\n",
       "    <tr>\n",
       "      <td>2</td>\n",
       "      <td>61947.0</td>\n",
       "      <td>110132.0</td>\n",
       "      <td>58.0</td>\n",
       "      <td>0.0</td>\n",
       "      <td>1.0</td>\n",
       "      <td>0.0</td>\n",
       "      <td>1.0</td>\n",
       "      <td>1.0</td>\n",
       "      <td>0.0</td>\n",
       "      <td>0.0</td>\n",
       "      <td>0.0</td>\n",
       "      <td>0.0</td>\n",
       "      <td>0.0</td>\n",
       "      <td>0.0</td>\n",
       "      <td>0.0</td>\n",
       "      <td>0.0</td>\n",
       "      <td>0.0</td>\n",
       "      <td>0.0</td>\n",
       "      <td>0.0</td>\n",
       "      <td>0.0</td>\n",
       "      <td>0.0</td>\n",
       "      <td>0.0</td>\n",
       "      <td>0.0</td>\n",
       "      <td>0.0</td>\n",
       "      <td>0.0</td>\n",
       "      <td>0.0</td>\n",
       "      <td>0.0</td>\n",
       "      <td>0.0</td>\n",
       "    </tr>\n",
       "    <tr>\n",
       "      <td>3</td>\n",
       "      <td>55259.0</td>\n",
       "      <td>71567.0</td>\n",
       "      <td>80.0</td>\n",
       "      <td>1.0</td>\n",
       "      <td>1.0</td>\n",
       "      <td>1.0</td>\n",
       "      <td>0.0</td>\n",
       "      <td>0.0</td>\n",
       "      <td>0.0</td>\n",
       "      <td>0.0</td>\n",
       "      <td>738.0</td>\n",
       "      <td>4.0</td>\n",
       "      <td>2.0</td>\n",
       "      <td>0.0</td>\n",
       "      <td>28544.0</td>\n",
       "      <td>51835.0</td>\n",
       "      <td>51835.0</td>\n",
       "      <td>0.0</td>\n",
       "      <td>0.0</td>\n",
       "      <td>0.0</td>\n",
       "      <td>0.0</td>\n",
       "      <td>0.0</td>\n",
       "      <td>0.0</td>\n",
       "      <td>4227.0</td>\n",
       "      <td>0.0</td>\n",
       "      <td>1.0</td>\n",
       "      <td>0.0</td>\n",
       "      <td>0.0</td>\n",
       "    </tr>\n",
       "    <tr>\n",
       "      <td>4</td>\n",
       "      <td>57013.0</td>\n",
       "      <td>98130.0</td>\n",
       "      <td>60.0</td>\n",
       "      <td>0.0</td>\n",
       "      <td>1.0</td>\n",
       "      <td>0.0</td>\n",
       "      <td>0.0</td>\n",
       "      <td>1.0</td>\n",
       "      <td>0.0</td>\n",
       "      <td>0.0</td>\n",
       "      <td>825.0</td>\n",
       "      <td>1.0</td>\n",
       "      <td>0.0</td>\n",
       "      <td>0.0</td>\n",
       "      <td>0.0</td>\n",
       "      <td>0.0</td>\n",
       "      <td>0.0</td>\n",
       "      <td>0.0</td>\n",
       "      <td>0.0</td>\n",
       "      <td>0.0</td>\n",
       "      <td>0.0</td>\n",
       "      <td>0.0</td>\n",
       "      <td>0.0</td>\n",
       "      <td>1522.0</td>\n",
       "      <td>0.0</td>\n",
       "      <td>0.0</td>\n",
       "      <td>0.0</td>\n",
       "      <td>0.0</td>\n",
       "    </tr>\n",
       "  </tbody>\n",
       "</table>\n",
       "</div>"
      ],
      "text/plain": [
       "   disbursed_amount  asset_cost   ltv  Employment_Type  MobileNo_Avl_Flag  \\\n",
       "0           35089.0     71100.0  51.0              1.0                1.0   \n",
       "1           48739.0     62290.0  81.0              0.0                1.0   \n",
       "2           61947.0    110132.0  58.0              0.0                1.0   \n",
       "3           55259.0     71567.0  80.0              1.0                1.0   \n",
       "4           57013.0     98130.0  60.0              0.0                1.0   \n",
       "\n",
       "   Aadhar_flag  PAN_flag  VoterID_flag  Driving_flag  Passport_flag  \\\n",
       "0          1.0       0.0           0.0           0.0            0.0   \n",
       "1          1.0       0.0           0.0           0.0            0.0   \n",
       "2          0.0       1.0           1.0           0.0            0.0   \n",
       "3          1.0       0.0           0.0           0.0            0.0   \n",
       "4          0.0       0.0           1.0           0.0            0.0   \n",
       "\n",
       "   PERFORM_CNS_SCORE  PRI_NO_OF_ACCTS  PRI_ACTIVE_ACCTS  PRI_OVERDUE_ACCTS  \\\n",
       "0                0.0              0.0               0.0                0.0   \n",
       "1              686.0              5.0               2.0                0.0   \n",
       "2                0.0              0.0               0.0                0.0   \n",
       "3              738.0              4.0               2.0                0.0   \n",
       "4              825.0              1.0               0.0                0.0   \n",
       "\n",
       "   PRI_CURRENT_BALANCE  PRI_SANCTIONED_AMOUNT  PRI_DISBURSED_AMOUNT  \\\n",
       "0                  0.0                    0.0                   0.0   \n",
       "1                  0.0                96000.0               96000.0   \n",
       "2                  0.0                    0.0                   0.0   \n",
       "3              28544.0                51835.0               51835.0   \n",
       "4                  0.0                    0.0                   0.0   \n",
       "\n",
       "   SEC_NO_OF_ACCTS  SEC_ACTIVE_ACCTS  SEC_OVERDUE_ACCTS  SEC_CURRENT_BALANCE  \\\n",
       "0              0.0               0.0                0.0                  0.0   \n",
       "1              0.0               0.0                0.0                  0.0   \n",
       "2              0.0               0.0                0.0                  0.0   \n",
       "3              0.0               0.0                0.0                  0.0   \n",
       "4              0.0               0.0                0.0                  0.0   \n",
       "\n",
       "   SEC_SANCTIONED_AMOUNT  SEC_DISBURSED_AMOUNT  PRIMARY_INSTAL_AMT  \\\n",
       "0                    0.0                   0.0                 0.0   \n",
       "1                    0.0                   0.0                 0.0   \n",
       "2                    0.0                   0.0                 0.0   \n",
       "3                    0.0                   0.0              4227.0   \n",
       "4                    0.0                   0.0              1522.0   \n",
       "\n",
       "   SEC_INSTAL_AMT  NEW_ACCTS_IN_LAST_SIX_MONTHS  \\\n",
       "0             0.0                           0.0   \n",
       "1             0.0                           0.0   \n",
       "2             0.0                           0.0   \n",
       "3             0.0                           1.0   \n",
       "4             0.0                           0.0   \n",
       "\n",
       "   DELINQUENT_ACCTS_IN_LAST_SIX_MONTHS  NO_OF_INQUIRIES  \n",
       "0                                  0.0              0.0  \n",
       "1                                  1.0              0.0  \n",
       "2                                  0.0              0.0  \n",
       "3                                  0.0              0.0  \n",
       "4                                  0.0              0.0  "
      ]
     },
     "metadata": {},
     "output_type": "display_data"
    },
    {
     "data": {
      "text/plain": [
       "0    0.0\n",
       "1    0.0\n",
       "2    0.0\n",
       "3    0.0\n",
       "4    0.0\n",
       "Name: loan_default, dtype: float64"
      ]
     },
     "metadata": {},
     "output_type": "display_data"
    }
   ],
   "source": [
    "display(X.head(),y.head())"
   ]
  },
  {
   "cell_type": "code",
   "execution_count": 89,
   "metadata": {},
   "outputs": [],
   "source": [
    "X_train,X_test,y_train,y_test = train_test_split(X,y,test_size=0.2, random_state=0)"
   ]
  },
  {
   "cell_type": "code",
   "execution_count": 90,
   "metadata": {},
   "outputs": [],
   "source": [
    "#Feature scaling to be done if we are using any algorithm which would work based on the distance\n",
    "sc_x = StandardScaler()\n",
    "X_train = sc_x.fit_transform(X_train)\n",
    "X_test = sc_x.fit_transform(X_test)"
   ]
  },
  {
   "cell_type": "code",
   "execution_count": 91,
   "metadata": {},
   "outputs": [
    {
     "data": {
      "text/plain": [
       "((88977, 28), (22245, 28))"
      ]
     },
     "execution_count": 91,
     "metadata": {},
     "output_type": "execute_result"
    }
   ],
   "source": [
    "X_train.shape,X_test.shape"
   ]
  },
  {
   "cell_type": "markdown",
   "metadata": {},
   "source": [
    "## Successfully removed the null values and done with encoding as well. We can start applying Classification models"
   ]
  },
  {
   "cell_type": "code",
   "execution_count": 92,
   "metadata": {},
   "outputs": [],
   "source": [
    "from sklearn.neighbors import KNeighborsClassifier\n",
    "from sklearn import utils\n",
    "import numpy as np\n",
    "from sklearn import svm\n",
    "from sklearn import model_selection,metrics\n",
    "from sklearn.model_selection import cross_val_score,cross_val_predict\n",
    "from sklearn.model_selection import train_test_split\n",
    "from sklearn.ensemble import RandomForestRegressor\n",
    "from sklearn.datasets import make_regression\n",
    "from sklearn.metrics import precision_score\n",
    "from sklearn.metrics import recall_score"
   ]
  },
  {
   "cell_type": "markdown",
   "metadata": {},
   "source": [
    "## KNN Classifier"
   ]
  },
  {
   "cell_type": "code",
   "execution_count": 56,
   "metadata": {},
   "outputs": [
    {
     "data": {
      "text/plain": [
       "KNeighborsClassifier(algorithm='auto', leaf_size=30, metric='euclidean',\n",
       "                     metric_params=None, n_jobs=None, n_neighbors=5, p=2,\n",
       "                     weights='uniform')"
      ]
     },
     "execution_count": 56,
     "metadata": {},
     "output_type": "execute_result"
    }
   ],
   "source": [
    "knn = KNeighborsClassifier(metric='euclidean')\n",
    "knn.fit(X_train,y_train)"
   ]
  },
  {
   "cell_type": "code",
   "execution_count": 57,
   "metadata": {},
   "outputs": [],
   "source": [
    "y_pred = knn.predict(X_test)"
   ]
  },
  {
   "cell_type": "code",
   "execution_count": 54,
   "metadata": {},
   "outputs": [
    {
     "data": {
      "text/plain": [
       "56.97"
      ]
     },
     "execution_count": 54,
     "metadata": {},
     "output_type": "execute_result"
    }
   ],
   "source": [
    "round(metrics.accuracy_score(y_test, y_pred)*100,2)"
   ]
  },
  {
   "cell_type": "code",
   "execution_count": 55,
   "metadata": {},
   "outputs": [
    {
     "data": {
      "text/plain": [
       "array([[7703, 4429],\n",
       "       [5142, 4971]])"
      ]
     },
     "execution_count": 55,
     "metadata": {},
     "output_type": "execute_result"
    }
   ],
   "source": [
    "from sklearn.metrics import confusion_matrix\n",
    "confusion_matrix(y_test,y_pred)"
   ]
  },
  {
   "cell_type": "code",
   "execution_count": 58,
   "metadata": {},
   "outputs": [
    {
     "data": {
      "text/html": [
       "\n",
       "<!DOCTYPE html>\n",
       "<html>\n",
       "  <head>\n",
       "  <script type=\"text/javascript\" src=\"http://kozea.github.com/pygal.js/javascripts/svg.jquery.js\"></script>\n",
       "  <script type=\"text/javascript\" src=\"https://kozea.github.io/pygal.js/2.0.x/pygal-tooltips.min.js\"\"></script>\n",
       "  </head>\n",
       "  <body>\n",
       "    <figure>\n",
       "      <?xml version='1.0' encoding='utf-8'?>\n",
       "<svg xmlns=\"http://www.w3.org/2000/svg\" xmlns:xlink=\"http://www.w3.org/1999/xlink\" id=\"chart-f36519c3-f963-4acd-8a9d-7329f58c8ad7\" class=\"pygal-chart\" viewBox=\"0 0 800 600\"><!--Generated with pygal 2.4.0 (lxml) ©Kozea 2012-2016 on 2020-04-25--><!--http://pygal.org--><!--http://github.com/Kozea/pygal--><defs><style type=\"text/css\">#chart-f36519c3-f963-4acd-8a9d-7329f58c8ad7{-webkit-user-select:none;-webkit-font-smoothing:antialiased;font-family:Consolas,\"Liberation Mono\",Menlo,Courier,monospace}#chart-f36519c3-f963-4acd-8a9d-7329f58c8ad7 .title{font-family:Consolas,\"Liberation Mono\",Menlo,Courier,monospace;font-size:16px}#chart-f36519c3-f963-4acd-8a9d-7329f58c8ad7 .legends .legend text{font-family:Consolas,\"Liberation Mono\",Menlo,Courier,monospace;font-size:14px}#chart-f36519c3-f963-4acd-8a9d-7329f58c8ad7 .axis text{font-family:Consolas,\"Liberation Mono\",Menlo,Courier,monospace;font-size:10px}#chart-f36519c3-f963-4acd-8a9d-7329f58c8ad7 .axis text.major{font-family:Consolas,\"Liberation Mono\",Menlo,Courier,monospace;font-size:10px}#chart-f36519c3-f963-4acd-8a9d-7329f58c8ad7 .text-overlay text.value{font-family:Consolas,\"Liberation Mono\",Menlo,Courier,monospace;font-size:16px}#chart-f36519c3-f963-4acd-8a9d-7329f58c8ad7 .text-overlay text.label{font-family:Consolas,\"Liberation Mono\",Menlo,Courier,monospace;font-size:10px}#chart-f36519c3-f963-4acd-8a9d-7329f58c8ad7 .tooltip{font-family:Consolas,\"Liberation Mono\",Menlo,Courier,monospace;font-size:14px}#chart-f36519c3-f963-4acd-8a9d-7329f58c8ad7 text.no_data{font-family:Consolas,\"Liberation Mono\",Menlo,Courier,monospace;font-size:64px}\n",
       "#chart-f36519c3-f963-4acd-8a9d-7329f58c8ad7{background-color:#f9f9fa}#chart-f36519c3-f963-4acd-8a9d-7329f58c8ad7 path,#chart-f36519c3-f963-4acd-8a9d-7329f58c8ad7 line,#chart-f36519c3-f963-4acd-8a9d-7329f58c8ad7 rect,#chart-f36519c3-f963-4acd-8a9d-7329f58c8ad7 circle{-webkit-transition:150ms;-moz-transition:150ms;transition:150ms}#chart-f36519c3-f963-4acd-8a9d-7329f58c8ad7 .graph &gt; .background{fill:#f9f9fa}#chart-f36519c3-f963-4acd-8a9d-7329f58c8ad7 .plot &gt; .background{fill:#ffffff}#chart-f36519c3-f963-4acd-8a9d-7329f58c8ad7 .graph{fill:rgba(0,0,0,0.9)}#chart-f36519c3-f963-4acd-8a9d-7329f58c8ad7 text.no_data{fill:rgba(0,0,0,0.9)}#chart-f36519c3-f963-4acd-8a9d-7329f58c8ad7 .title{fill:rgba(0,0,0,0.9)}#chart-f36519c3-f963-4acd-8a9d-7329f58c8ad7 .legends .legend text{fill:rgba(0,0,0,0.9)}#chart-f36519c3-f963-4acd-8a9d-7329f58c8ad7 .legends .legend:hover text{fill:rgba(0,0,0,0.9)}#chart-f36519c3-f963-4acd-8a9d-7329f58c8ad7 .axis .line{stroke:rgba(0,0,0,0.9)}#chart-f36519c3-f963-4acd-8a9d-7329f58c8ad7 .axis .guide.line{stroke:rgba(0,0,0,0.5)}#chart-f36519c3-f963-4acd-8a9d-7329f58c8ad7 .axis .major.line{stroke:rgba(0,0,0,0.9)}#chart-f36519c3-f963-4acd-8a9d-7329f58c8ad7 .axis text.major{fill:rgba(0,0,0,0.9)}#chart-f36519c3-f963-4acd-8a9d-7329f58c8ad7 .axis.y .guides:hover .guide.line,#chart-f36519c3-f963-4acd-8a9d-7329f58c8ad7 .line-graph .axis.x .guides:hover .guide.line,#chart-f36519c3-f963-4acd-8a9d-7329f58c8ad7 .stackedline-graph .axis.x .guides:hover .guide.line,#chart-f36519c3-f963-4acd-8a9d-7329f58c8ad7 .xy-graph .axis.x .guides:hover .guide.line{stroke:rgba(0,0,0,0.9)}#chart-f36519c3-f963-4acd-8a9d-7329f58c8ad7 .axis .guides:hover text{fill:rgba(0,0,0,0.9)}#chart-f36519c3-f963-4acd-8a9d-7329f58c8ad7 .reactive{fill-opacity:.6;stroke-opacity:.8}#chart-f36519c3-f963-4acd-8a9d-7329f58c8ad7 .ci{stroke:rgba(0,0,0,0.9)}#chart-f36519c3-f963-4acd-8a9d-7329f58c8ad7 .reactive.active,#chart-f36519c3-f963-4acd-8a9d-7329f58c8ad7 .active .reactive{fill-opacity:.9;stroke-opacity:.9;stroke-width:4}#chart-f36519c3-f963-4acd-8a9d-7329f58c8ad7 .ci .reactive.active{stroke-width:1.5}#chart-f36519c3-f963-4acd-8a9d-7329f58c8ad7 .series text{fill:rgba(0,0,0,0.9)}#chart-f36519c3-f963-4acd-8a9d-7329f58c8ad7 .tooltip rect{fill:#ffffff;stroke:rgba(0,0,0,0.9);-webkit-transition:opacity 150ms;-moz-transition:opacity 150ms;transition:opacity 150ms}#chart-f36519c3-f963-4acd-8a9d-7329f58c8ad7 .tooltip .label{fill:rgba(0,0,0,0.9)}#chart-f36519c3-f963-4acd-8a9d-7329f58c8ad7 .tooltip .label{fill:rgba(0,0,0,0.9)}#chart-f36519c3-f963-4acd-8a9d-7329f58c8ad7 .tooltip .legend{font-size:.8em;fill:rgba(0,0,0,0.5)}#chart-f36519c3-f963-4acd-8a9d-7329f58c8ad7 .tooltip .x_label{font-size:.6em;fill:rgba(0,0,0,0.9)}#chart-f36519c3-f963-4acd-8a9d-7329f58c8ad7 .tooltip .xlink{font-size:.5em;text-decoration:underline}#chart-f36519c3-f963-4acd-8a9d-7329f58c8ad7 .tooltip .value{font-size:1.5em}#chart-f36519c3-f963-4acd-8a9d-7329f58c8ad7 .bound{font-size:.5em}#chart-f36519c3-f963-4acd-8a9d-7329f58c8ad7 .max-value{font-size:.75em;fill:rgba(0,0,0,0.5)}#chart-f36519c3-f963-4acd-8a9d-7329f58c8ad7 .map-element{fill:#ffffff;stroke:rgba(0,0,0,0.5) !important}#chart-f36519c3-f963-4acd-8a9d-7329f58c8ad7 .map-element .reactive{fill-opacity:inherit;stroke-opacity:inherit}#chart-f36519c3-f963-4acd-8a9d-7329f58c8ad7 .color-0,#chart-f36519c3-f963-4acd-8a9d-7329f58c8ad7 .color-0 a:visited{stroke:#d94e4c;fill:#d94e4c}#chart-f36519c3-f963-4acd-8a9d-7329f58c8ad7 .color-1,#chart-f36519c3-f963-4acd-8a9d-7329f58c8ad7 .color-1 a:visited{stroke:#e5884f;fill:#e5884f}#chart-f36519c3-f963-4acd-8a9d-7329f58c8ad7 .text-overlay .color-0 text{fill:black}#chart-f36519c3-f963-4acd-8a9d-7329f58c8ad7 .text-overlay .color-1 text{fill:black}\n",
       "#chart-f36519c3-f963-4acd-8a9d-7329f58c8ad7 text.no_data{text-anchor:middle}#chart-f36519c3-f963-4acd-8a9d-7329f58c8ad7 .guide.line{fill:none}#chart-f36519c3-f963-4acd-8a9d-7329f58c8ad7 .centered{text-anchor:middle}#chart-f36519c3-f963-4acd-8a9d-7329f58c8ad7 .title{text-anchor:middle}#chart-f36519c3-f963-4acd-8a9d-7329f58c8ad7 .legends .legend text{fill-opacity:1}#chart-f36519c3-f963-4acd-8a9d-7329f58c8ad7 .axis.x text{text-anchor:middle}#chart-f36519c3-f963-4acd-8a9d-7329f58c8ad7 .axis.x:not(.web) text[transform]{text-anchor:start}#chart-f36519c3-f963-4acd-8a9d-7329f58c8ad7 .axis.x:not(.web) text[transform].backwards{text-anchor:end}#chart-f36519c3-f963-4acd-8a9d-7329f58c8ad7 .axis.y text{text-anchor:end}#chart-f36519c3-f963-4acd-8a9d-7329f58c8ad7 .axis.y text[transform].backwards{text-anchor:start}#chart-f36519c3-f963-4acd-8a9d-7329f58c8ad7 .axis.y2 text{text-anchor:start}#chart-f36519c3-f963-4acd-8a9d-7329f58c8ad7 .axis.y2 text[transform].backwards{text-anchor:end}#chart-f36519c3-f963-4acd-8a9d-7329f58c8ad7 .axis .guide.line{stroke-dasharray:4,4}#chart-f36519c3-f963-4acd-8a9d-7329f58c8ad7 .axis .major.guide.line{stroke-dasharray:6,6}#chart-f36519c3-f963-4acd-8a9d-7329f58c8ad7 .horizontal .axis.y .guide.line,#chart-f36519c3-f963-4acd-8a9d-7329f58c8ad7 .horizontal .axis.y2 .guide.line,#chart-f36519c3-f963-4acd-8a9d-7329f58c8ad7 .vertical .axis.x .guide.line{opacity:0}#chart-f36519c3-f963-4acd-8a9d-7329f58c8ad7 .horizontal .axis.always_show .guide.line,#chart-f36519c3-f963-4acd-8a9d-7329f58c8ad7 .vertical .axis.always_show .guide.line{opacity:1 !important}#chart-f36519c3-f963-4acd-8a9d-7329f58c8ad7 .axis.y .guides:hover .guide.line,#chart-f36519c3-f963-4acd-8a9d-7329f58c8ad7 .axis.y2 .guides:hover .guide.line,#chart-f36519c3-f963-4acd-8a9d-7329f58c8ad7 .axis.x .guides:hover .guide.line{opacity:1}#chart-f36519c3-f963-4acd-8a9d-7329f58c8ad7 .axis .guides:hover text{opacity:1}#chart-f36519c3-f963-4acd-8a9d-7329f58c8ad7 .nofill{fill:none}#chart-f36519c3-f963-4acd-8a9d-7329f58c8ad7 .subtle-fill{fill-opacity:.2}#chart-f36519c3-f963-4acd-8a9d-7329f58c8ad7 .dot{stroke-width:1px;fill-opacity:1}#chart-f36519c3-f963-4acd-8a9d-7329f58c8ad7 .dot.active{stroke-width:5px}#chart-f36519c3-f963-4acd-8a9d-7329f58c8ad7 .dot.negative{fill:transparent}#chart-f36519c3-f963-4acd-8a9d-7329f58c8ad7 text,#chart-f36519c3-f963-4acd-8a9d-7329f58c8ad7 tspan{stroke:none !important}#chart-f36519c3-f963-4acd-8a9d-7329f58c8ad7 .series text.active{opacity:1}#chart-f36519c3-f963-4acd-8a9d-7329f58c8ad7 .tooltip rect{fill-opacity:.95;stroke-width:.5}#chart-f36519c3-f963-4acd-8a9d-7329f58c8ad7 .tooltip text{fill-opacity:1}#chart-f36519c3-f963-4acd-8a9d-7329f58c8ad7 .showable{visibility:hidden}#chart-f36519c3-f963-4acd-8a9d-7329f58c8ad7 .showable.shown{visibility:visible}#chart-f36519c3-f963-4acd-8a9d-7329f58c8ad7 .gauge-background{fill:rgba(229,229,229,1);stroke:none}#chart-f36519c3-f963-4acd-8a9d-7329f58c8ad7 .bg-lines{stroke:#f9f9fa;stroke-width:2px}</style><script type=\"text/javascript\">window.pygal = window.pygal || {};window.pygal.config = window.pygal.config || {};window.pygal.config['f36519c3-f963-4acd-8a9d-7329f58c8ad7'] = {\"allow_interruptions\": false, \"box_mode\": \"extremes\", \"classes\": [\"pygal-chart\"], \"css\": [\"file://style.css\", \"file://graph.css\"], \"defs\": [], \"disable_xml_declaration\": false, \"dots_size\": 2.5, \"dynamic_print_values\": false, \"explicit_size\": false, \"fill\": false, \"force_uri_protocol\": \"https\", \"formatter\": null, \"half_pie\": false, \"height\": 600, \"include_x_axis\": false, \"inner_radius\": 0, \"interpolate\": null, \"interpolation_parameters\": {}, \"interpolation_precision\": 250, \"inverse_y_axis\": false, \"js\": [\"//kozea.github.io/pygal.js/2.0.x/pygal-tooltips.min.js\"], \"legend_at_bottom\": false, \"legend_at_bottom_columns\": null, \"legend_box_size\": 12, \"logarithmic\": false, \"margin\": 20, \"margin_bottom\": null, \"margin_left\": null, \"margin_right\": null, \"margin_top\": null, \"max_scale\": 16, \"min_scale\": 4, \"missing_value_fill_truncation\": \"x\", \"no_data_text\": \"No data\", \"no_prefix\": false, \"order_min\": null, \"pretty_print\": false, \"print_labels\": false, \"print_values\": false, \"print_values_position\": \"center\", \"print_zeroes\": true, \"range\": null, \"rounded_bars\": null, \"secondary_range\": null, \"show_dots\": true, \"show_legend\": true, \"show_minor_x_labels\": true, \"show_minor_y_labels\": true, \"show_only_major_dots\": false, \"show_x_guides\": false, \"show_x_labels\": true, \"show_y_guides\": true, \"show_y_labels\": true, \"spacing\": 10, \"stack_from_top\": false, \"strict\": false, \"stroke\": true, \"stroke_style\": null, \"style\": {\"background\": \"#f9f9fa\", \"ci_colors\": [], \"colors\": [\"#d94e4c\", \"#e5884f\", \"#39929a\", \"#e27876\", \"#245d62\", \"#f0bb9b\", \"#c82d2a\", \"#234547\"], \"font_family\": \"Consolas, \\\"Liberation Mono\\\", Menlo, Courier, monospace\", \"foreground\": \"rgba(0, 0, 0, 0.9)\", \"foreground_strong\": \"rgba(0, 0, 0, 0.9)\", \"foreground_subtle\": \"rgba(0, 0, 0, 0.5)\", \"guide_stroke_dasharray\": \"4,4\", \"label_font_family\": \"Consolas, \\\"Liberation Mono\\\", Menlo, Courier, monospace\", \"label_font_size\": 10, \"legend_font_family\": \"Consolas, \\\"Liberation Mono\\\", Menlo, Courier, monospace\", \"legend_font_size\": 14, \"major_guide_stroke_dasharray\": \"6,6\", \"major_label_font_family\": \"Consolas, \\\"Liberation Mono\\\", Menlo, Courier, monospace\", \"major_label_font_size\": 10, \"no_data_font_family\": \"Consolas, \\\"Liberation Mono\\\", Menlo, Courier, monospace\", \"no_data_font_size\": 64, \"opacity\": \".6\", \"opacity_hover\": \".9\", \"plot_background\": \"#ffffff\", \"stroke_opacity\": \".8\", \"stroke_opacity_hover\": \".9\", \"title_font_family\": \"Consolas, \\\"Liberation Mono\\\", Menlo, Courier, monospace\", \"title_font_size\": 16, \"tooltip_font_family\": \"Consolas, \\\"Liberation Mono\\\", Menlo, Courier, monospace\", \"tooltip_font_size\": 14, \"transition\": \"150ms\", \"value_background\": \"rgba(229, 229, 229, 1)\", \"value_colors\": [], \"value_font_family\": \"Consolas, \\\"Liberation Mono\\\", Menlo, Courier, monospace\", \"value_font_size\": 16, \"value_label_font_family\": \"Consolas, \\\"Liberation Mono\\\", Menlo, Courier, monospace\", \"value_label_font_size\": 10}, \"title\": \"Confusion Matrix\", \"tooltip_border_radius\": 0, \"tooltip_fancy_mode\": true, \"truncate_label\": null, \"truncate_legend\": null, \"width\": 800, \"x_label_rotation\": 30, \"x_labels\": [\"0.0\", \"1.0\"], \"x_labels_major\": null, \"x_labels_major_count\": null, \"x_labels_major_every\": null, \"x_title\": \"Predicted\", \"xrange\": null, \"y_label_rotation\": 0, \"y_labels\": null, \"y_labels_major\": null, \"y_labels_major_count\": null, \"y_labels_major_every\": null, \"y_title\": \"Actual\", \"zero\": 0, \"legends\": [\"0.0\", \"1.0\"]}</script><script type=\"text/javascript\" xlink:href=\"https://kozea.github.io/pygal.js/2.0.x/pygal-tooltips.min.js\"/></defs><title>Confusion Matrix</title><g class=\"graph dot-graph vertical\"><rect x=\"0\" y=\"0\" width=\"800\" height=\"600\" class=\"background\"/><g transform=\"translate(121, 46)\" class=\"plot\"><rect x=\"0\" y=\"0\" width=\"658.8\" height=\"488\" class=\"background\"/><g class=\"axis y always_show\"><path d=\"M0.000000 488.000000 h658.800000\" class=\"line\"/><g class=\"guides\"><path d=\"M0.000000 126.692308 h658.800000\" class=\"guide line\"/><text x=\"-5\" y=\"130.19230769230774\" class=\"\">0.0</text><title>1.5</title></g><g class=\"guides\"><path d=\"M0.000000 361.307692 h658.800000\" class=\"guide line\"/><text x=\"-5\" y=\"364.80769230769226\" class=\"\">1.0</text><title>0.5</title></g></g><g class=\"axis x\"><path d=\"M0.000000 0.000000 v488.000000\" class=\"line\"/><g class=\"guides\"><path d=\"M171.034615 0.000000 v488.000000\" class=\"guide line\"/><text x=\"171.0346153846154\" y=\"503.0\" class=\"\" transform=\"rotate(30 171.034615 503.000000)\">0.0</text></g><g class=\"guides\"><path d=\"M487.765385 0.000000 v488.000000\" class=\"guide line\"/><text x=\"487.76538461538456\" y=\"503.0\" class=\"\" transform=\"rotate(30 487.765385 503.000000)\">1.0</text></g></g><g class=\"series serie-0 color-0\"><g class=\"dots\"><circle cx=\"171.0346153846154\" cy=\"126.69230769230774\" r=\"111.72161172161172\" class=\"dot reactive tooltip-trigger\"/><desc class=\"value\">7703</desc><desc class=\"x centered\">171.0346153846154</desc><desc class=\"y centered\">126.69230769230774</desc><desc class=\"x_label\">0.0</desc></g><g class=\"dots\"><circle cx=\"487.76538461538456\" cy=\"126.69230769230774\" r=\"64.23666341880025\" class=\"dot reactive tooltip-trigger\"/><desc class=\"value\">4429</desc><desc class=\"x centered\">487.76538461538456</desc><desc class=\"y centered\">126.69230769230774</desc><desc class=\"x_label\">1.0</desc></g></g><g class=\"series serie-1 color-1\"><g class=\"dots\"><circle cx=\"171.0346153846154\" cy=\"361.30769230769226\" r=\"74.57776547741497\" class=\"dot reactive tooltip-trigger\"/><desc class=\"value\">5142</desc><desc class=\"x centered\">171.0346153846154</desc><desc class=\"y centered\">361.30769230769226</desc><desc class=\"x_label\">0.0</desc></g><g class=\"dots\"><circle cx=\"487.76538461538456\" cy=\"361.30769230769226\" r=\"72.09764142128157\" class=\"dot reactive tooltip-trigger\"/><desc class=\"value\">4971</desc><desc class=\"x centered\">487.76538461538456</desc><desc class=\"y centered\">361.30769230769226</desc><desc class=\"x_label\">1.0</desc></g></g></g><g class=\"titles\"><text x=\"400.0\" y=\"26\" class=\"title plot_title\">Confusion Matrix</text><text x=\"450.59999999999997\" y=\"580\" class=\"title\">Predicted</text><text x=\"47.199999999999996\" y=\"316.0\" class=\"title\" transform=\"rotate(-90 47.200000 290.000000)\">Actual</text></g><g transform=\"translate(121, 46)\" class=\"plot overlay\"><g class=\"series serie-0 color-0\"/><g class=\"series serie-1 color-1\"/></g><g transform=\"translate(121, 46)\" class=\"plot text-overlay\"><g class=\"series serie-0 color-0\"/><g class=\"series serie-1 color-1\"/></g><g transform=\"translate(121, 46)\" class=\"plot tooltip-overlay\"><g transform=\"translate(0 0)\" style=\"opacity: 0\" class=\"tooltip\"><rect rx=\"0\" ry=\"0\" width=\"0\" height=\"0\" class=\"tooltip-box\"/><g class=\"text\"/></g></g><g transform=\"translate(10, 56)\" class=\"legends\"><g id=\"activate-serie-0\" class=\"legend reactive activate-serie\"><rect x=\"0.0\" y=\"1.0\" width=\"12\" height=\"12\" class=\"color-0 reactive\"/><text x=\"17.0\" y=\"11.2\">0.0</text></g><g id=\"activate-serie-1\" class=\"legend reactive activate-serie\"><rect x=\"0.0\" y=\"22.0\" width=\"12\" height=\"12\" class=\"color-1 reactive\"/><text x=\"17.0\" y=\"32.2\">1.0</text></g></g><g transform=\"translate(790, 56)\" class=\"legends\"/></g></svg>\n",
       "    </figure>\n",
       "  </body>\n",
       "</html>\n"
      ],
      "text/plain": [
       "<IPython.core.display.HTML object>"
      ]
     },
     "metadata": {},
     "output_type": "display_data"
    }
   ],
   "source": [
    "import pygal\n",
    "from IPython.display import display, HTML\n",
    "from pygal.style import RedBlueStyle\n",
    "\n",
    "base_html = \"\"\"\n",
    "<!DOCTYPE html>\n",
    "<html>\n",
    "  <head>\n",
    "  <script type=\"text/javascript\" src=\"http://kozea.github.com/pygal.js/javascripts/svg.jquery.js\"></script>\n",
    "  <script type=\"text/javascript\" src=\"https://kozea.github.io/pygal.js/2.0.x/pygal-tooltips.min.js\"\"></script>\n",
    "  </head>\n",
    "  <body>\n",
    "    <figure>\n",
    "      {rendered_chart}\n",
    "    </figure>\n",
    "  </body>\n",
    "</html>\n",
    "\"\"\"\n",
    "\n",
    "def galplot(chart):\n",
    "    rendered_chart = chart.render(is_unicode=True)\n",
    "    plot_html = base_html.format(rendered_chart=rendered_chart)\n",
    "    display(HTML(plot_html))\n",
    "def plot_cm(y_test, y_pred):\n",
    "    labels = np.unique(y_test)\n",
    "    cm = confusion_matrix(y_test, y_pred, labels=labels)\n",
    "    dot_chart = pygal.Dot(x_label_rotation=30, interpolate='cubic', style=RedBlueStyle)\n",
    "    dot_chart.title = 'Confusion Matrix'\n",
    "    dot_chart.x_labels = labels\n",
    "    dot_chart.x_title = \"Predicted\"\n",
    "    dot_chart.y_title = \"Actual\"\n",
    "    for i in range(len(labels)):\n",
    "        dot_chart.add(labels[i], cm[i,:])\n",
    "    galplot(dot_chart)\n",
    "    \n",
    "plot_cm(y_test.astype(str), y_pred.astype(str))"
   ]
  },
  {
   "cell_type": "code",
   "execution_count": 59,
   "metadata": {},
   "outputs": [
    {
     "name": "stdout",
     "output_type": "stream",
     "text": [
      "Predicted   0.0   1.0\n",
      "Actual               \n",
      "0.0        7703  4429\n",
      "1.0        5142  4971\n"
     ]
    }
   ],
   "source": [
    "confusion_matrix = pd.crosstab(y_test, y_pred, rownames=['Actual'], colnames=['Predicted'])\n",
    "print(confusion_matrix)"
   ]
  },
  {
   "cell_type": "code",
   "execution_count": 61,
   "metadata": {},
   "outputs": [
    {
     "data": {
      "text/plain": [
       "(0, 2)"
      ]
     },
     "execution_count": 61,
     "metadata": {},
     "output_type": "execute_result"
    },
    {
     "data": {
      "image/png": "[encoded data removed]",
      "text/plain": [
       "<Figure size 576x432 with 2 Axes>"
      ]
     },
     "metadata": {
      "needs_background": "light"
     },
     "output_type": "display_data"
    }
   ],
   "source": [
    "fig, ax = plt.subplots(figsize=(8,6))\n",
    "sns.heatmap(confusion_matrix/np.sum(confusion_matrix), annot=True, \n",
    "            fmt='.2%', cmap='Blues')\n",
    "ax.set_ylim([0,2])"
   ]
  },
  {
   "cell_type": "code",
   "execution_count": 66,
   "metadata": {},
   "outputs": [
    {
     "data": {
      "text/plain": [
       "(0, 2)"
      ]
     },
     "execution_count": 66,
     "metadata": {},
     "output_type": "execute_result"
    },
    {
     "data": {
      "image/png": "[encoded data removed]",
      "text/plain": [
       "<Figure size 576x432 with 2 Axes>"
      ]
     },
     "metadata": {
      "needs_background": "light"
     },
     "output_type": "display_data"
    }
   ],
   "source": [
    "fig, ax = plt.subplots(figsize=(8,6))\n",
    "cf_matrix = confusion_matrix(y_test, y_pred)\n",
    "group_names = ['True Neg','False Pos','False Neg','True Pos']\n",
    "group_counts = [\"{0:0.0f}\".format(value) for value in cf_matrix.flatten()]\n",
    "group_percentages = [\"{0:.2%}\".format(value) for value in cf_matrix.flatten()/np.sum(cf_matrix)]\n",
    "labels = [f\"{v1}\\n{v2}\\n{v3}\" for v1, v2, v3 in zip(group_names,group_counts,group_percentages)]\n",
    "labels = np.asarray(labels).reshape(2,2)\n",
    "sns.heatmap(cf_matrix, annot=labels, fmt='', cmap='Blues')\n",
    "ax.set_ylim([0,2])"
   ]
  },
  {
   "cell_type": "code",
   "execution_count": 72,
   "metadata": {},
   "outputs": [],
   "source": [
    "acc_arr = []\n",
    "for i in range(10,40):\n",
    "    knn = KNeighborsClassifier(n_neighbors=i)\n",
    "    knn.fit(X_train,y_train)\n",
    "    y_pred = knn.predict(X_test)\n",
    "    acc_arr.append(round(metrics.accuracy_score(y_test, y_pred)*100,2))"
   ]
  },
  {
   "cell_type": "code",
   "execution_count": 74,
   "metadata": {},
   "outputs": [
    {
     "data": {
      "text/plain": [
       "Text(0, 0.5, 'Accuracy of the model')"
      ]
     },
     "execution_count": 74,
     "metadata": {},
     "output_type": "execute_result"
    },
    {
     "data": {
      "image/png": "[encoded data removed]",
      "text/plain": [
       "<Figure size 864x432 with 1 Axes>"
      ]
     },
     "metadata": {
      "needs_background": "light"
     },
     "output_type": "display_data"
    }
   ],
   "source": [
    "plt.figure(figsize=(12, 6))\n",
    "plt.plot(range(10, 40), acc_arr, color='red', linestyle='dashed', marker='o',\n",
    "         markerfacecolor='blue', markersize=10)\n",
    "plt.title('Accuracy Vs K Value')\n",
    "plt.xlabel('K Value')\n",
    "plt.xticks(range(10, 40))\n",
    "plt.ylabel('Accuracy of the model')"
   ]
  },
  {
   "cell_type": "code",
   "execution_count": 111,
   "metadata": {},
   "outputs": [],
   "source": [
    "knn = KNeighborsClassifier(metric='euclidean',n_neighbors = 37)\n",
    "knn.fit(X_train,y_train)\n",
    "y_pred = knn.predict(X_test)"
   ]
  },
  {
   "cell_type": "code",
   "execution_count": 112,
   "metadata": {},
   "outputs": [
    {
     "data": {
      "text/plain": [
       "58.8"
      ]
     },
     "execution_count": 112,
     "metadata": {},
     "output_type": "execute_result"
    }
   ],
   "source": [
    "knn_acc = round(metrics.accuracy_score(y_test, y_pred)*100,2)\n",
    "knn_acc"
   ]
  },
  {
   "cell_type": "code",
   "execution_count": 116,
   "metadata": {},
   "outputs": [
    {
     "data": {
      "text/plain": [
       "(55.39, 48.2)"
      ]
     },
     "execution_count": 116,
     "metadata": {},
     "output_type": "execute_result"
    }
   ],
   "source": [
    "knn_prec = round(precision_score(y_test, y_pred)*100,2)\n",
    "knn_recall = round(recall_score(y_test, y_pred)*100,2)\n",
    "knn_prec,knn_recall"
   ]
  },
  {
   "cell_type": "code",
   "execution_count": 82,
   "metadata": {},
   "outputs": [
    {
     "data": {
      "text/plain": [
       "(0, 2)"
      ]
     },
     "execution_count": 82,
     "metadata": {},
     "output_type": "execute_result"
    },
    {
     "data": {
      "image/png": "[encoded data removed]",
      "text/plain": [
       "<Figure size 576x432 with 2 Axes>"
      ]
     },
     "metadata": {
      "needs_background": "light"
     },
     "output_type": "display_data"
    }
   ],
   "source": [
    "fig, ax = plt.subplots(figsize=(8,6))\n",
    "cf_matrix = confusion_matrix(y_test, y_pred)\n",
    "group_names = ['True Neg','False Pos','False Neg','True Pos']\n",
    "group_counts = [\"{0:0.0f}\".format(value) for value in cf_matrix.flatten()]\n",
    "group_percentages = [\"{0:.2%}\".format(value) for value in cf_matrix.flatten()/np.sum(cf_matrix)]\n",
    "labels = [f\"{v1}\\n{v2}\\n{v3}\" for v1, v2, v3 in zip(group_names,group_counts,group_percentages)]\n",
    "labels = np.asarray(labels).reshape(2,2)\n",
    "sns.heatmap(cf_matrix, annot=labels, fmt='', cmap='Blues')\n",
    "ax.set_ylim([0,2])"
   ]
  },
  {
   "cell_type": "markdown",
   "metadata": {},
   "source": [
    "## Linear Support Vector Machine"
   ]
  },
  {
   "cell_type": "code",
   "execution_count": 94,
   "metadata": {},
   "outputs": [],
   "source": [
    "from sklearn.kernel_approximation import RBFSampler\n",
    "X_train,X_test,y_train,y_test = train_test_split(X,y,test_size=0.2, random_state=0)\n",
    "rbf_feature = RBFSampler(gamma=1, random_state=1)\n",
    "X_train_features = rbf_feature.fit_transform(X_train)\n",
    "X_test_features = rbf_feature.fit_transform(X_test)"
   ]
  },
  {
   "cell_type": "code",
   "execution_count": 95,
   "metadata": {},
   "outputs": [],
   "source": [
    "from sklearn.svm import LinearSVC\n",
    "\n",
    "#Create a svm Classifier\n",
    "clf = LinearSVC(C=20,random_state=1) # Linear Kernel"
   ]
  },
  {
   "cell_type": "code",
   "execution_count": 138,
   "metadata": {},
   "outputs": [
    {
     "data": {
      "text/plain": [
       "LinearSVC(C=20, class_weight=None, dual=True, fit_intercept=True,\n",
       "          intercept_scaling=1, loss='squared_hinge', max_iter=1000,\n",
       "          multi_class='ovr', penalty='l2', random_state=1, tol=0.0001,\n",
       "          verbose=0)"
      ]
     },
     "execution_count": 138,
     "metadata": {},
     "output_type": "execute_result"
    }
   ],
   "source": [
    "#Train the model using the training sets\n",
    "clf.fit(X_train_features, y_train)"
   ]
  },
  {
   "cell_type": "code",
   "execution_count": 139,
   "metadata": {},
   "outputs": [
    {
     "data": {
      "text/plain": [
       "array([0., 0., 0., ..., 0., 0., 0.])"
      ]
     },
     "execution_count": 139,
     "metadata": {},
     "output_type": "execute_result"
    }
   ],
   "source": [
    "#Predict the response for test dataset\n",
    "y_pred = clf.predict(X_test_features)\n",
    "y_pred"
   ]
  },
  {
   "cell_type": "code",
   "execution_count": 141,
   "metadata": {},
   "outputs": [
    {
     "data": {
      "text/plain": [
       "(47.83, 0.76)"
      ]
     },
     "execution_count": 141,
     "metadata": {},
     "output_type": "execute_result"
    }
   ],
   "source": [
    "clf_acc =  round(metrics.accuracy_score(y_test, y_pred)*100,2)\n",
    "clf_prec = round(precision_score(y_test, y_pred)*100,2)\n",
    "clf_recall = round(recall_score(y_test, y_pred)*100,2)\n",
    "clf_prec,clf_recall"
   ]
  },
  {
   "cell_type": "code",
   "execution_count": 154,
   "metadata": {},
   "outputs": [
    {
     "name": "stdout",
     "output_type": "stream",
     "text": [
      "Predicted    0.0  1.0\n",
      "Actual               \n",
      "0.0        11272  860\n",
      "1.0         9367  746\n"
     ]
    }
   ],
   "source": [
    "confusion_matrix = pd.crosstab(y_test, y_pred, rownames=['Actual'], colnames=['Predicted'])\n",
    "print(confusion_matrix)"
   ]
  },
  {
   "cell_type": "code",
   "execution_count": 142,
   "metadata": {},
   "outputs": [
    {
     "data": {
      "text/plain": [
       "(0, 2)"
      ]
     },
     "execution_count": 142,
     "metadata": {},
     "output_type": "execute_result"
    },
    {
     "data": {
      "image/png": "[encoded data removed]",
      "text/plain": [
       "<Figure size 576x432 with 2 Axes>"
      ]
     },
     "metadata": {
      "needs_background": "light"
     },
     "output_type": "display_data"
    }
   ],
   "source": [
    "from sklearn.metrics import confusion_matrix\n",
    "fig, ax = plt.subplots(figsize=(8,6))\n",
    "cf_matrix = confusion_matrix(y_test, y_pred)\n",
    "group_names = ['True Neg','False Pos','False Neg','True Pos']\n",
    "group_counts = [\"{0:0.0f}\".format(value) for value in cf_matrix.flatten()]\n",
    "group_percentages = [\"{0:.2%}\".format(value) for value in cf_matrix.flatten()/np.sum(cf_matrix)]\n",
    "labels = [f\"{v1}\\n{v2}\\n{v3}\" for v1, v2, v3 in zip(group_names,group_counts,group_percentages)]\n",
    "labels = np.asarray(labels).reshape(2,2)\n",
    "sns.heatmap(cf_matrix, annot=labels, fmt='', cmap='Blues')\n",
    "ax.set_ylim([0,2])"
   ]
  },
  {
   "cell_type": "code",
   "execution_count": 96,
   "metadata": {},
   "outputs": [],
   "source": [
    "various_c = [0.01,10,50,100,300,600,1000,5000,10000]\n",
    "acc_arr = []\n",
    "for i in various_c:\n",
    "    clf = LinearSVC(C=i,random_state=1)\n",
    "    clf.fit(X_train_features, y_train)\n",
    "    y_pred = clf.predict(X_test_features)\n",
    "    acc_arr.append(round(metrics.accuracy_score(y_test, y_pred)*100,2))"
   ]
  },
  {
   "cell_type": "code",
   "execution_count": 97,
   "metadata": {},
   "outputs": [
    {
     "data": {
      "text/plain": [
       "Text(0, 0.5, 'Accuracy of the model')"
      ]
     },
     "execution_count": 97,
     "metadata": {},
     "output_type": "execute_result"
    },
    {
     "data": {
      "image/png": "[encoded data removed]",
      "text/plain": [
       "<Figure size 864x432 with 1 Axes>"
      ]
     },
     "metadata": {
      "needs_background": "light"
     },
     "output_type": "display_data"
    }
   ],
   "source": [
    "plt.figure(figsize=(12, 6))\n",
    "plt.plot(various_c, acc_arr, color='red', linestyle='dashed', marker='o',\n",
    "         markerfacecolor='blue', markersize=10)\n",
    "plt.title('Accuracy Vs C-Regularisation Parameter Value')\n",
    "plt.xlabel('C-Regularisation Parameter Value')\n",
    "#plt.xticks(various_c)\n",
    "plt.ylabel('Accuracy of the model')"
   ]
  },
  {
   "cell_type": "code",
   "execution_count": 100,
   "metadata": {},
   "outputs": [
    {
     "data": {
      "image/png": "[encoded data removed]",
      "text/plain": [
       "<Figure size 789.75x720 with 4 Axes>"
      ]
     },
     "metadata": {
      "needs_background": "light"
     },
     "output_type": "display_data"
    }
   ],
   "source": [
    "g = sns.lmplot(x=\"PERFORM_CNS_SCORE\", y=\"disbursed_amount\", row=\"Employment_Type\", col=\"Aadhar_flag\",\n",
    "               data=final_df,hue='loan_default',palette='Set1', fit_reg=False)\n",
    "g = (g.set_axis_labels(\"CIBIL Score\", \"Disbursed Amount\")\n",
    "#     .set(xlim=(0, 60), ylim=(0, 12),\n",
    "#           xticks=[10, 30, 50], yticks=[2, 6, 10])\n",
    "      .fig.subplots_adjust(wspace=.02))"
   ]
  },
  {
   "cell_type": "code",
   "execution_count": 174,
   "metadata": {},
   "outputs": [
    {
     "data": {
      "text/plain": [
       "<seaborn.axisgrid.FacetGrid at 0x2c875a490>"
      ]
     },
     "execution_count": 174,
     "metadata": {},
     "output_type": "execute_result"
    },
    {
     "data": {
      "image/png": "[encoded data removed]",
      "text/plain": [
       "<Figure size 429.75x360 with 1 Axes>"
      ]
     },
     "metadata": {
      "needs_background": "light"
     },
     "output_type": "display_data"
    }
   ],
   "source": [
    "# Plot two ingredients\n",
    "sns.lmplot('disbursed_amount','PERFORM_CNS_SCORE', data=final_df, hue='loan_default',\n",
    "           palette='Set1', fit_reg=False, scatter_kws={\"s\": 70}).set(xscale=\"log\", yscale=\"log\",\n",
    "                    title=\"Correlation between two Sample features against loan_default\")"
   ]
  },
  {
   "cell_type": "markdown",
   "metadata": {},
   "source": [
    "## Recursive Feature selection Algorithm implementation"
   ]
  },
  {
   "cell_type": "code",
   "execution_count": 98,
   "metadata": {},
   "outputs": [],
   "source": [
    "from sklearn.feature_selection import RFE\n",
    "from sklearn.svm import LinearSVC\n",
    "#X, y = make_friedman1(n_samples=50, n_features=10, random_state=0)\n",
    "tmp_df_rfe = final_df.sample(n=100, random_state=1)\n",
    "X1,y1 = tmp_df_rfe.drop(['loan_default'],axis=1),tmp_df_rfe['loan_default']\n",
    "estimator = LinearSVC(random_state=1)\n",
    "selector = RFE(estimator, 6, step=1)\n",
    "selector = selector.fit(X, y)"
   ]
  },
  {
   "cell_type": "code",
   "execution_count": 99,
   "metadata": {},
   "outputs": [
    {
     "data": {
      "text/html": [
       "<style  type=\"text/css\" >\n",
       "    #T_80745cc8_8cd6_11ea_970b_a45e60d77265row0_col2 {\n",
       "            background-color:  #f7eae8;\n",
       "            color:  #000000;\n",
       "        }    #T_80745cc8_8cd6_11ea_970b_a45e60d77265row1_col2 {\n",
       "            background-color:  #efeef1;\n",
       "            color:  #000000;\n",
       "        }    #T_80745cc8_8cd6_11ea_970b_a45e60d77265row2_col2 {\n",
       "            background-color:  #cad0dd;\n",
       "            color:  #000000;\n",
       "        }    #T_80745cc8_8cd6_11ea_970b_a45e60d77265row3_col2 {\n",
       "            background-color:  #3f75bc;\n",
       "            color:  #000000;\n",
       "        }    #T_80745cc8_8cd6_11ea_970b_a45e60d77265row4_col2 {\n",
       "            background-color:  #a3b4cd;\n",
       "            color:  #000000;\n",
       "        }    #T_80745cc8_8cd6_11ea_970b_a45e60d77265row5_col2 {\n",
       "            background-color:  #2369bd;\n",
       "            color:  #f1f1f1;\n",
       "        }    #T_80745cc8_8cd6_11ea_970b_a45e60d77265row6_col2 {\n",
       "            background-color:  #5782bc;\n",
       "            color:  #000000;\n",
       "        }    #T_80745cc8_8cd6_11ea_970b_a45e60d77265row7_col2 {\n",
       "            background-color:  #6a8dbf;\n",
       "            color:  #000000;\n",
       "        }    #T_80745cc8_8cd6_11ea_970b_a45e60d77265row8_col2 {\n",
       "            background-color:  #2369bd;\n",
       "            color:  #f1f1f1;\n",
       "        }    #T_80745cc8_8cd6_11ea_970b_a45e60d77265row9_col2 {\n",
       "            background-color:  #c16c6a;\n",
       "            color:  #000000;\n",
       "        }    #T_80745cc8_8cd6_11ea_970b_a45e60d77265row10_col2 {\n",
       "            background-color:  #b7c2d5;\n",
       "            color:  #000000;\n",
       "        }    #T_80745cc8_8cd6_11ea_970b_a45e60d77265row11_col2 {\n",
       "            background-color:  #7e9ac2;\n",
       "            color:  #000000;\n",
       "        }    #T_80745cc8_8cd6_11ea_970b_a45e60d77265row12_col2 {\n",
       "            background-color:  #2369bd;\n",
       "            color:  #f1f1f1;\n",
       "        }    #T_80745cc8_8cd6_11ea_970b_a45e60d77265row13_col2 {\n",
       "            background-color:  #2369bd;\n",
       "            color:  #f1f1f1;\n",
       "        }    #T_80745cc8_8cd6_11ea_970b_a45e60d77265row14_col2 {\n",
       "            background-color:  #c87e7b;\n",
       "            color:  #000000;\n",
       "        }    #T_80745cc8_8cd6_11ea_970b_a45e60d77265row15_col2 {\n",
       "            background-color:  #e6c5c3;\n",
       "            color:  #000000;\n",
       "        }    #T_80745cc8_8cd6_11ea_970b_a45e60d77265row16_col2 {\n",
       "            background-color:  #faf5f4;\n",
       "            color:  #000000;\n",
       "        }    #T_80745cc8_8cd6_11ea_970b_a45e60d77265row17_col2 {\n",
       "            background-color:  #92a7c8;\n",
       "            color:  #000000;\n",
       "        }    #T_80745cc8_8cd6_11ea_970b_a45e60d77265row18_col2 {\n",
       "            background-color:  #b95b5a;\n",
       "            color:  #000000;\n",
       "        }    #T_80745cc8_8cd6_11ea_970b_a45e60d77265row19_col2 {\n",
       "            background-color:  #b1494a;\n",
       "            color:  #f1f1f1;\n",
       "        }    #T_80745cc8_8cd6_11ea_970b_a45e60d77265row20_col2 {\n",
       "            background-color:  #a9373b;\n",
       "            color:  #f1f1f1;\n",
       "        }    #T_80745cc8_8cd6_11ea_970b_a45e60d77265row21_col2 {\n",
       "            background-color:  #d7a09d;\n",
       "            color:  #000000;\n",
       "        }    #T_80745cc8_8cd6_11ea_970b_a45e60d77265row22_col2 {\n",
       "            background-color:  #eed7d5;\n",
       "            color:  #000000;\n",
       "        }    #T_80745cc8_8cd6_11ea_970b_a45e60d77265row23_col2 {\n",
       "            background-color:  #deb2b0;\n",
       "            color:  #000000;\n",
       "        }    #T_80745cc8_8cd6_11ea_970b_a45e60d77265row24_col2 {\n",
       "            background-color:  #d08f8d;\n",
       "            color:  #000000;\n",
       "        }    #T_80745cc8_8cd6_11ea_970b_a45e60d77265row25_col2 {\n",
       "            background-color:  #dcdee6;\n",
       "            color:  #000000;\n",
       "        }    #T_80745cc8_8cd6_11ea_970b_a45e60d77265row26_col2 {\n",
       "            background-color:  #2369bd;\n",
       "            color:  #f1f1f1;\n",
       "        }    #T_80745cc8_8cd6_11ea_970b_a45e60d77265row27_col2 {\n",
       "            background-color:  #2369bd;\n",
       "            color:  #f1f1f1;\n",
       "        }</style><table id=\"T_80745cc8_8cd6_11ea_970b_a45e60d77265\" ><thead>    <tr>        <th class=\"blank level0\" ></th>        <th class=\"col_heading level0 col0\" >X-Features Name</th>        <th class=\"col_heading level0 col1\" >Important or Not as per RFE</th>        <th class=\"col_heading level0 col2\" >Feature Ranking as per RFE</th>    </tr></thead><tbody>\n",
       "                <tr>\n",
       "                        <th id=\"T_80745cc8_8cd6_11ea_970b_a45e60d77265level0_row0\" class=\"row_heading level0 row0\" >0</th>\n",
       "                        <td id=\"T_80745cc8_8cd6_11ea_970b_a45e60d77265row0_col0\" class=\"data row0 col0\" >disbursed_amount</td>\n",
       "                        <td id=\"T_80745cc8_8cd6_11ea_970b_a45e60d77265row0_col1\" class=\"data row0 col1\" >False</td>\n",
       "                        <td id=\"T_80745cc8_8cd6_11ea_970b_a45e60d77265row0_col2\" class=\"data row0 col2\" >13</td>\n",
       "            </tr>\n",
       "            <tr>\n",
       "                        <th id=\"T_80745cc8_8cd6_11ea_970b_a45e60d77265level0_row1\" class=\"row_heading level0 row1\" >1</th>\n",
       "                        <td id=\"T_80745cc8_8cd6_11ea_970b_a45e60d77265row1_col0\" class=\"data row1 col0\" >asset_cost</td>\n",
       "                        <td id=\"T_80745cc8_8cd6_11ea_970b_a45e60d77265row1_col1\" class=\"data row1 col1\" >False</td>\n",
       "                        <td id=\"T_80745cc8_8cd6_11ea_970b_a45e60d77265row1_col2\" class=\"data row1 col2\" >11</td>\n",
       "            </tr>\n",
       "            <tr>\n",
       "                        <th id=\"T_80745cc8_8cd6_11ea_970b_a45e60d77265level0_row2\" class=\"row_heading level0 row2\" >2</th>\n",
       "                        <td id=\"T_80745cc8_8cd6_11ea_970b_a45e60d77265row2_col0\" class=\"data row2 col0\" >ltv</td>\n",
       "                        <td id=\"T_80745cc8_8cd6_11ea_970b_a45e60d77265row2_col1\" class=\"data row2 col1\" >False</td>\n",
       "                        <td id=\"T_80745cc8_8cd6_11ea_970b_a45e60d77265row2_col2\" class=\"data row2 col2\" >9</td>\n",
       "            </tr>\n",
       "            <tr>\n",
       "                        <th id=\"T_80745cc8_8cd6_11ea_970b_a45e60d77265level0_row3\" class=\"row_heading level0 row3\" >3</th>\n",
       "                        <td id=\"T_80745cc8_8cd6_11ea_970b_a45e60d77265row3_col0\" class=\"data row3 col0\" >Employment_Type</td>\n",
       "                        <td id=\"T_80745cc8_8cd6_11ea_970b_a45e60d77265row3_col1\" class=\"data row3 col1\" >False</td>\n",
       "                        <td id=\"T_80745cc8_8cd6_11ea_970b_a45e60d77265row3_col2\" class=\"data row3 col2\" >2</td>\n",
       "            </tr>\n",
       "            <tr>\n",
       "                        <th id=\"T_80745cc8_8cd6_11ea_970b_a45e60d77265level0_row4\" class=\"row_heading level0 row4\" >4</th>\n",
       "                        <td id=\"T_80745cc8_8cd6_11ea_970b_a45e60d77265row4_col0\" class=\"data row4 col0\" >MobileNo_Avl_Flag</td>\n",
       "                        <td id=\"T_80745cc8_8cd6_11ea_970b_a45e60d77265row4_col1\" class=\"data row4 col1\" >False</td>\n",
       "                        <td id=\"T_80745cc8_8cd6_11ea_970b_a45e60d77265row4_col2\" class=\"data row4 col2\" >7</td>\n",
       "            </tr>\n",
       "            <tr>\n",
       "                        <th id=\"T_80745cc8_8cd6_11ea_970b_a45e60d77265level0_row5\" class=\"row_heading level0 row5\" >5</th>\n",
       "                        <td id=\"T_80745cc8_8cd6_11ea_970b_a45e60d77265row5_col0\" class=\"data row5 col0\" >Aadhar_flag</td>\n",
       "                        <td id=\"T_80745cc8_8cd6_11ea_970b_a45e60d77265row5_col1\" class=\"data row5 col1\" >True</td>\n",
       "                        <td id=\"T_80745cc8_8cd6_11ea_970b_a45e60d77265row5_col2\" class=\"data row5 col2\" >1</td>\n",
       "            </tr>\n",
       "            <tr>\n",
       "                        <th id=\"T_80745cc8_8cd6_11ea_970b_a45e60d77265level0_row6\" class=\"row_heading level0 row6\" >6</th>\n",
       "                        <td id=\"T_80745cc8_8cd6_11ea_970b_a45e60d77265row6_col0\" class=\"data row6 col0\" >PAN_flag</td>\n",
       "                        <td id=\"T_80745cc8_8cd6_11ea_970b_a45e60d77265row6_col1\" class=\"data row6 col1\" >False</td>\n",
       "                        <td id=\"T_80745cc8_8cd6_11ea_970b_a45e60d77265row6_col2\" class=\"data row6 col2\" >3</td>\n",
       "            </tr>\n",
       "            <tr>\n",
       "                        <th id=\"T_80745cc8_8cd6_11ea_970b_a45e60d77265level0_row7\" class=\"row_heading level0 row7\" >7</th>\n",
       "                        <td id=\"T_80745cc8_8cd6_11ea_970b_a45e60d77265row7_col0\" class=\"data row7 col0\" >VoterID_flag</td>\n",
       "                        <td id=\"T_80745cc8_8cd6_11ea_970b_a45e60d77265row7_col1\" class=\"data row7 col1\" >False</td>\n",
       "                        <td id=\"T_80745cc8_8cd6_11ea_970b_a45e60d77265row7_col2\" class=\"data row7 col2\" >4</td>\n",
       "            </tr>\n",
       "            <tr>\n",
       "                        <th id=\"T_80745cc8_8cd6_11ea_970b_a45e60d77265level0_row8\" class=\"row_heading level0 row8\" >8</th>\n",
       "                        <td id=\"T_80745cc8_8cd6_11ea_970b_a45e60d77265row8_col0\" class=\"data row8 col0\" >Driving_flag</td>\n",
       "                        <td id=\"T_80745cc8_8cd6_11ea_970b_a45e60d77265row8_col1\" class=\"data row8 col1\" >True</td>\n",
       "                        <td id=\"T_80745cc8_8cd6_11ea_970b_a45e60d77265row8_col2\" class=\"data row8 col2\" >1</td>\n",
       "            </tr>\n",
       "            <tr>\n",
       "                        <th id=\"T_80745cc8_8cd6_11ea_970b_a45e60d77265level0_row9\" class=\"row_heading level0 row9\" >9</th>\n",
       "                        <td id=\"T_80745cc8_8cd6_11ea_970b_a45e60d77265row9_col0\" class=\"data row9 col0\" >Passport_flag</td>\n",
       "                        <td id=\"T_80745cc8_8cd6_11ea_970b_a45e60d77265row9_col1\" class=\"data row9 col1\" >False</td>\n",
       "                        <td id=\"T_80745cc8_8cd6_11ea_970b_a45e60d77265row9_col2\" class=\"data row9 col2\" >20</td>\n",
       "            </tr>\n",
       "            <tr>\n",
       "                        <th id=\"T_80745cc8_8cd6_11ea_970b_a45e60d77265level0_row10\" class=\"row_heading level0 row10\" >10</th>\n",
       "                        <td id=\"T_80745cc8_8cd6_11ea_970b_a45e60d77265row10_col0\" class=\"data row10 col0\" >PERFORM_CNS_SCORE</td>\n",
       "                        <td id=\"T_80745cc8_8cd6_11ea_970b_a45e60d77265row10_col1\" class=\"data row10 col1\" >False</td>\n",
       "                        <td id=\"T_80745cc8_8cd6_11ea_970b_a45e60d77265row10_col2\" class=\"data row10 col2\" >8</td>\n",
       "            </tr>\n",
       "            <tr>\n",
       "                        <th id=\"T_80745cc8_8cd6_11ea_970b_a45e60d77265level0_row11\" class=\"row_heading level0 row11\" >11</th>\n",
       "                        <td id=\"T_80745cc8_8cd6_11ea_970b_a45e60d77265row11_col0\" class=\"data row11 col0\" >PRI_NO_OF_ACCTS</td>\n",
       "                        <td id=\"T_80745cc8_8cd6_11ea_970b_a45e60d77265row11_col1\" class=\"data row11 col1\" >False</td>\n",
       "                        <td id=\"T_80745cc8_8cd6_11ea_970b_a45e60d77265row11_col2\" class=\"data row11 col2\" >5</td>\n",
       "            </tr>\n",
       "            <tr>\n",
       "                        <th id=\"T_80745cc8_8cd6_11ea_970b_a45e60d77265level0_row12\" class=\"row_heading level0 row12\" >12</th>\n",
       "                        <td id=\"T_80745cc8_8cd6_11ea_970b_a45e60d77265row12_col0\" class=\"data row12 col0\" >PRI_ACTIVE_ACCTS</td>\n",
       "                        <td id=\"T_80745cc8_8cd6_11ea_970b_a45e60d77265row12_col1\" class=\"data row12 col1\" >True</td>\n",
       "                        <td id=\"T_80745cc8_8cd6_11ea_970b_a45e60d77265row12_col2\" class=\"data row12 col2\" >1</td>\n",
       "            </tr>\n",
       "            <tr>\n",
       "                        <th id=\"T_80745cc8_8cd6_11ea_970b_a45e60d77265level0_row13\" class=\"row_heading level0 row13\" >13</th>\n",
       "                        <td id=\"T_80745cc8_8cd6_11ea_970b_a45e60d77265row13_col0\" class=\"data row13 col0\" >PRI_OVERDUE_ACCTS</td>\n",
       "                        <td id=\"T_80745cc8_8cd6_11ea_970b_a45e60d77265row13_col1\" class=\"data row13 col1\" >True</td>\n",
       "                        <td id=\"T_80745cc8_8cd6_11ea_970b_a45e60d77265row13_col2\" class=\"data row13 col2\" >1</td>\n",
       "            </tr>\n",
       "            <tr>\n",
       "                        <th id=\"T_80745cc8_8cd6_11ea_970b_a45e60d77265level0_row14\" class=\"row_heading level0 row14\" >14</th>\n",
       "                        <td id=\"T_80745cc8_8cd6_11ea_970b_a45e60d77265row14_col0\" class=\"data row14 col0\" >PRI_CURRENT_BALANCE</td>\n",
       "                        <td id=\"T_80745cc8_8cd6_11ea_970b_a45e60d77265row14_col1\" class=\"data row14 col1\" >False</td>\n",
       "                        <td id=\"T_80745cc8_8cd6_11ea_970b_a45e60d77265row14_col2\" class=\"data row14 col2\" >19</td>\n",
       "            </tr>\n",
       "            <tr>\n",
       "                        <th id=\"T_80745cc8_8cd6_11ea_970b_a45e60d77265level0_row15\" class=\"row_heading level0 row15\" >15</th>\n",
       "                        <td id=\"T_80745cc8_8cd6_11ea_970b_a45e60d77265row15_col0\" class=\"data row15 col0\" >PRI_SANCTIONED_AMOUNT</td>\n",
       "                        <td id=\"T_80745cc8_8cd6_11ea_970b_a45e60d77265row15_col1\" class=\"data row15 col1\" >False</td>\n",
       "                        <td id=\"T_80745cc8_8cd6_11ea_970b_a45e60d77265row15_col2\" class=\"data row15 col2\" >15</td>\n",
       "            </tr>\n",
       "            <tr>\n",
       "                        <th id=\"T_80745cc8_8cd6_11ea_970b_a45e60d77265level0_row16\" class=\"row_heading level0 row16\" >16</th>\n",
       "                        <td id=\"T_80745cc8_8cd6_11ea_970b_a45e60d77265row16_col0\" class=\"data row16 col0\" >PRI_DISBURSED_AMOUNT</td>\n",
       "                        <td id=\"T_80745cc8_8cd6_11ea_970b_a45e60d77265row16_col1\" class=\"data row16 col1\" >False</td>\n",
       "                        <td id=\"T_80745cc8_8cd6_11ea_970b_a45e60d77265row16_col2\" class=\"data row16 col2\" >12</td>\n",
       "            </tr>\n",
       "            <tr>\n",
       "                        <th id=\"T_80745cc8_8cd6_11ea_970b_a45e60d77265level0_row17\" class=\"row_heading level0 row17\" >17</th>\n",
       "                        <td id=\"T_80745cc8_8cd6_11ea_970b_a45e60d77265row17_col0\" class=\"data row17 col0\" >SEC_NO_OF_ACCTS</td>\n",
       "                        <td id=\"T_80745cc8_8cd6_11ea_970b_a45e60d77265row17_col1\" class=\"data row17 col1\" >False</td>\n",
       "                        <td id=\"T_80745cc8_8cd6_11ea_970b_a45e60d77265row17_col2\" class=\"data row17 col2\" >6</td>\n",
       "            </tr>\n",
       "            <tr>\n",
       "                        <th id=\"T_80745cc8_8cd6_11ea_970b_a45e60d77265level0_row18\" class=\"row_heading level0 row18\" >18</th>\n",
       "                        <td id=\"T_80745cc8_8cd6_11ea_970b_a45e60d77265row18_col0\" class=\"data row18 col0\" >SEC_ACTIVE_ACCTS</td>\n",
       "                        <td id=\"T_80745cc8_8cd6_11ea_970b_a45e60d77265row18_col1\" class=\"data row18 col1\" >False</td>\n",
       "                        <td id=\"T_80745cc8_8cd6_11ea_970b_a45e60d77265row18_col2\" class=\"data row18 col2\" >21</td>\n",
       "            </tr>\n",
       "            <tr>\n",
       "                        <th id=\"T_80745cc8_8cd6_11ea_970b_a45e60d77265level0_row19\" class=\"row_heading level0 row19\" >19</th>\n",
       "                        <td id=\"T_80745cc8_8cd6_11ea_970b_a45e60d77265row19_col0\" class=\"data row19 col0\" >SEC_OVERDUE_ACCTS</td>\n",
       "                        <td id=\"T_80745cc8_8cd6_11ea_970b_a45e60d77265row19_col1\" class=\"data row19 col1\" >False</td>\n",
       "                        <td id=\"T_80745cc8_8cd6_11ea_970b_a45e60d77265row19_col2\" class=\"data row19 col2\" >22</td>\n",
       "            </tr>\n",
       "            <tr>\n",
       "                        <th id=\"T_80745cc8_8cd6_11ea_970b_a45e60d77265level0_row20\" class=\"row_heading level0 row20\" >20</th>\n",
       "                        <td id=\"T_80745cc8_8cd6_11ea_970b_a45e60d77265row20_col0\" class=\"data row20 col0\" >SEC_CURRENT_BALANCE</td>\n",
       "                        <td id=\"T_80745cc8_8cd6_11ea_970b_a45e60d77265row20_col1\" class=\"data row20 col1\" >False</td>\n",
       "                        <td id=\"T_80745cc8_8cd6_11ea_970b_a45e60d77265row20_col2\" class=\"data row20 col2\" >23</td>\n",
       "            </tr>\n",
       "            <tr>\n",
       "                        <th id=\"T_80745cc8_8cd6_11ea_970b_a45e60d77265level0_row21\" class=\"row_heading level0 row21\" >21</th>\n",
       "                        <td id=\"T_80745cc8_8cd6_11ea_970b_a45e60d77265row21_col0\" class=\"data row21 col0\" >SEC_SANCTIONED_AMOUNT</td>\n",
       "                        <td id=\"T_80745cc8_8cd6_11ea_970b_a45e60d77265row21_col1\" class=\"data row21 col1\" >False</td>\n",
       "                        <td id=\"T_80745cc8_8cd6_11ea_970b_a45e60d77265row21_col2\" class=\"data row21 col2\" >17</td>\n",
       "            </tr>\n",
       "            <tr>\n",
       "                        <th id=\"T_80745cc8_8cd6_11ea_970b_a45e60d77265level0_row22\" class=\"row_heading level0 row22\" >22</th>\n",
       "                        <td id=\"T_80745cc8_8cd6_11ea_970b_a45e60d77265row22_col0\" class=\"data row22 col0\" >SEC_DISBURSED_AMOUNT</td>\n",
       "                        <td id=\"T_80745cc8_8cd6_11ea_970b_a45e60d77265row22_col1\" class=\"data row22 col1\" >False</td>\n",
       "                        <td id=\"T_80745cc8_8cd6_11ea_970b_a45e60d77265row22_col2\" class=\"data row22 col2\" >14</td>\n",
       "            </tr>\n",
       "            <tr>\n",
       "                        <th id=\"T_80745cc8_8cd6_11ea_970b_a45e60d77265level0_row23\" class=\"row_heading level0 row23\" >23</th>\n",
       "                        <td id=\"T_80745cc8_8cd6_11ea_970b_a45e60d77265row23_col0\" class=\"data row23 col0\" >PRIMARY_INSTAL_AMT</td>\n",
       "                        <td id=\"T_80745cc8_8cd6_11ea_970b_a45e60d77265row23_col1\" class=\"data row23 col1\" >False</td>\n",
       "                        <td id=\"T_80745cc8_8cd6_11ea_970b_a45e60d77265row23_col2\" class=\"data row23 col2\" >16</td>\n",
       "            </tr>\n",
       "            <tr>\n",
       "                        <th id=\"T_80745cc8_8cd6_11ea_970b_a45e60d77265level0_row24\" class=\"row_heading level0 row24\" >24</th>\n",
       "                        <td id=\"T_80745cc8_8cd6_11ea_970b_a45e60d77265row24_col0\" class=\"data row24 col0\" >SEC_INSTAL_AMT</td>\n",
       "                        <td id=\"T_80745cc8_8cd6_11ea_970b_a45e60d77265row24_col1\" class=\"data row24 col1\" >False</td>\n",
       "                        <td id=\"T_80745cc8_8cd6_11ea_970b_a45e60d77265row24_col2\" class=\"data row24 col2\" >18</td>\n",
       "            </tr>\n",
       "            <tr>\n",
       "                        <th id=\"T_80745cc8_8cd6_11ea_970b_a45e60d77265level0_row25\" class=\"row_heading level0 row25\" >25</th>\n",
       "                        <td id=\"T_80745cc8_8cd6_11ea_970b_a45e60d77265row25_col0\" class=\"data row25 col0\" >NEW_ACCTS_IN_LAST_SIX_MONTHS</td>\n",
       "                        <td id=\"T_80745cc8_8cd6_11ea_970b_a45e60d77265row25_col1\" class=\"data row25 col1\" >False</td>\n",
       "                        <td id=\"T_80745cc8_8cd6_11ea_970b_a45e60d77265row25_col2\" class=\"data row25 col2\" >10</td>\n",
       "            </tr>\n",
       "            <tr>\n",
       "                        <th id=\"T_80745cc8_8cd6_11ea_970b_a45e60d77265level0_row26\" class=\"row_heading level0 row26\" >26</th>\n",
       "                        <td id=\"T_80745cc8_8cd6_11ea_970b_a45e60d77265row26_col0\" class=\"data row26 col0\" >DELINQUENT_ACCTS_IN_LAST_SIX_MONTHS</td>\n",
       "                        <td id=\"T_80745cc8_8cd6_11ea_970b_a45e60d77265row26_col1\" class=\"data row26 col1\" >True</td>\n",
       "                        <td id=\"T_80745cc8_8cd6_11ea_970b_a45e60d77265row26_col2\" class=\"data row26 col2\" >1</td>\n",
       "            </tr>\n",
       "            <tr>\n",
       "                        <th id=\"T_80745cc8_8cd6_11ea_970b_a45e60d77265level0_row27\" class=\"row_heading level0 row27\" >27</th>\n",
       "                        <td id=\"T_80745cc8_8cd6_11ea_970b_a45e60d77265row27_col0\" class=\"data row27 col0\" >NO_OF_INQUIRIES</td>\n",
       "                        <td id=\"T_80745cc8_8cd6_11ea_970b_a45e60d77265row27_col1\" class=\"data row27 col1\" >True</td>\n",
       "                        <td id=\"T_80745cc8_8cd6_11ea_970b_a45e60d77265row27_col2\" class=\"data row27 col2\" >1</td>\n",
       "            </tr>\n",
       "    </tbody></table>"
      ],
      "text/plain": [
       "<pandas.io.formats.style.Styler at 0x11f91d910>"
      ]
     },
     "execution_count": 99,
     "metadata": {},
     "output_type": "execute_result"
    }
   ],
   "source": [
    "pd.DataFrame({'X-Features Name':X_train.columns,'Important or Not as per RFE':selector.support_,\n",
    "             'Feature Ranking as per RFE':selector.ranking_}).style.background_gradient(cmap='vlag')"
   ]
  },
  {
   "cell_type": "code",
   "execution_count": 100,
   "metadata": {},
   "outputs": [],
   "source": [
    "# Support Vector Machine with RFE Extracted features\n",
    "tmp_X_train = X_train[['Aadhar_flag','Driving_flag','PRI_ACTIVE_ACCTS','PRI_OVERDUE_ACCTS','DELINQUENT_ACCTS_IN_LAST_SIX_MONTHS','NO_OF_INQUIRIES']]\n",
    "tmp_X_test = X_test[['Aadhar_flag','Driving_flag','PRI_ACTIVE_ACCTS','PRI_OVERDUE_ACCTS','DELINQUENT_ACCTS_IN_LAST_SIX_MONTHS','NO_OF_INQUIRIES']]\n",
    "\n",
    "\n",
    "ml_model = LinearSVC(random_state=1)\n",
    "ml_model.fit(tmp_X_train,y_train)\n",
    "y_pred_rfe = ml_model.predict(tmp_X_test)\n"
   ]
  },
  {
   "cell_type": "code",
   "execution_count": 146,
   "metadata": {},
   "outputs": [
    {
     "data": {
      "text/plain": [
       "(55.16, 23.51)"
      ]
     },
     "execution_count": 146,
     "metadata": {},
     "output_type": "execute_result"
    }
   ],
   "source": [
    "clf_rfe_acc = round(metrics.accuracy_score(y_test, y_pred_rfe)*100,2)\n",
    "clf_rfe_prec = round(precision_score(y_test, y_pred_rfe)*100,2)\n",
    "clf_rfe_recall = round(recall_score(y_test, y_pred_rfe)*100,2)\n",
    "clf_rfe_prec,clf_rfe_recall"
   ]
  },
  {
   "cell_type": "code",
   "execution_count": 149,
   "metadata": {},
   "outputs": [
    {
     "data": {
      "text/html": [
       "<style  type=\"text/css\" >\n",
       "    #T_36dbb49a_87e4_11ea_b360_821701496b80row0_col1 {\n",
       "            background-color:  #ee82ee;\n",
       "            color:  #000000;\n",
       "        }    #T_36dbb49a_87e4_11ea_b360_821701496b80row0_col2 {\n",
       "            background-color:  #ee82ee;\n",
       "            color:  #000000;\n",
       "        }    #T_36dbb49a_87e4_11ea_b360_821701496b80row0_col3 {\n",
       "            background-color:  #ee82ee;\n",
       "            color:  #000000;\n",
       "        }    #T_36dbb49a_87e4_11ea_b360_821701496b80row1_col1 {\n",
       "            background-color:  #fce9fc;\n",
       "            color:  #000000;\n",
       "        }    #T_36dbb49a_87e4_11ea_b360_821701496b80row1_col2 {\n",
       "            background-color:  #fce9fc;\n",
       "            color:  #000000;\n",
       "        }    #T_36dbb49a_87e4_11ea_b360_821701496b80row1_col3 {\n",
       "            background-color:  #fce9fc;\n",
       "            color:  #000000;\n",
       "        }    #T_36dbb49a_87e4_11ea_b360_821701496b80row2_col1 {\n",
       "            background-color:  #f5b8f5;\n",
       "            color:  #000000;\n",
       "        }    #T_36dbb49a_87e4_11ea_b360_821701496b80row2_col2 {\n",
       "            background-color:  #ee85ee;\n",
       "            color:  #000000;\n",
       "        }    #T_36dbb49a_87e4_11ea_b360_821701496b80row2_col3 {\n",
       "            background-color:  #f5b7f5;\n",
       "            color:  #000000;\n",
       "        }</style><table id=\"T_36dbb49a_87e4_11ea_b360_821701496b80\" ><thead>    <tr>        <th class=\"blank level0\" ></th>        <th class=\"col_heading level0 col0\" >ML Models</th>        <th class=\"col_heading level0 col1\" >Accuracy in %</th>        <th class=\"col_heading level0 col2\" >Precision in %</th>        <th class=\"col_heading level0 col3\" >Recall in %</th>    </tr></thead><tbody>\n",
       "                <tr>\n",
       "                        <th id=\"T_36dbb49a_87e4_11ea_b360_821701496b80level0_row0\" class=\"row_heading level0 row0\" >0</th>\n",
       "                        <td id=\"T_36dbb49a_87e4_11ea_b360_821701496b80row0_col0\" class=\"data row0 col0\" >K-Nearest Neighbours</td>\n",
       "                        <td id=\"T_36dbb49a_87e4_11ea_b360_821701496b80row0_col1\" class=\"data row0 col1\" >58.8</td>\n",
       "                        <td id=\"T_36dbb49a_87e4_11ea_b360_821701496b80row0_col2\" class=\"data row0 col2\" >55.39</td>\n",
       "                        <td id=\"T_36dbb49a_87e4_11ea_b360_821701496b80row0_col3\" class=\"data row0 col3\" >48.2</td>\n",
       "            </tr>\n",
       "            <tr>\n",
       "                        <th id=\"T_36dbb49a_87e4_11ea_b360_821701496b80level0_row1\" class=\"row_heading level0 row1\" >1</th>\n",
       "                        <td id=\"T_36dbb49a_87e4_11ea_b360_821701496b80row1_col0\" class=\"data row1 col0\" >LinearSVC</td>\n",
       "                        <td id=\"T_36dbb49a_87e4_11ea_b360_821701496b80row1_col1\" class=\"data row1 col1\" >54.51</td>\n",
       "                        <td id=\"T_36dbb49a_87e4_11ea_b360_821701496b80row1_col2\" class=\"data row1 col2\" >47.83</td>\n",
       "                        <td id=\"T_36dbb49a_87e4_11ea_b360_821701496b80row1_col3\" class=\"data row1 col3\" >0.76</td>\n",
       "            </tr>\n",
       "            <tr>\n",
       "                        <th id=\"T_36dbb49a_87e4_11ea_b360_821701496b80level0_row2\" class=\"row_heading level0 row2\" >2</th>\n",
       "                        <td id=\"T_36dbb49a_87e4_11ea_b360_821701496b80row2_col0\" class=\"data row2 col0\" >LinearSVC with RFE extracted Features</td>\n",
       "                        <td id=\"T_36dbb49a_87e4_11ea_b360_821701496b80row2_col1\" class=\"data row2 col1\" >56.54</td>\n",
       "                        <td id=\"T_36dbb49a_87e4_11ea_b360_821701496b80row2_col2\" class=\"data row2 col2\" >55.16</td>\n",
       "                        <td id=\"T_36dbb49a_87e4_11ea_b360_821701496b80row2_col3\" class=\"data row2 col3\" >23.51</td>\n",
       "            </tr>\n",
       "    </tbody></table>"
      ],
      "text/plain": [
       "<pandas.io.formats.style.Styler at 0x12f842890>"
      ]
     },
     "execution_count": 149,
     "metadata": {},
     "output_type": "execute_result"
    }
   ],
   "source": [
    "final_res_df = pd.DataFrame({'ML Models' : ['K-Nearest Neighbours','LinearSVC','LinearSVC with RFE extracted Features'],\n",
    "              'Accuracy in %' : [knn_acc,clf_acc,clf_rfe_acc],\n",
    "             'Precision in %':[knn_prec,clf_prec,clf_rfe_prec],\n",
    "             'Recall in %':[knn_recall,clf_recall,clf_rfe_recall]})\n",
    "\n",
    "final_res_df.style.background_gradient(cmap=sns.light_palette(\"violet\", as_cmap=True))"
   ]
  },
  {
   "cell_type": "code",
   "execution_count": null,
   "metadata": {},
   "outputs": [],
   "source": []
  }
 ],
 "metadata": {
  "kernelspec": {
   "display_name": "Python 3",
   "language": "python",
   "name": "python3"
  },
  "language_info": {
   "codemirror_mode": {
    "name": "ipython",
    "version": 3
   },
   "file_extension": ".py",
   "mimetype": "text/x-python",
   "name": "python",
   "nbconvert_exporter": "python",
   "pygments_lexer": "ipython3",
   "version": "3.7.4"
  }
 },
 "nbformat": 4,
 "nbformat_minor": 2
}
